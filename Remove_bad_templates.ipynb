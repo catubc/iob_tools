{
 "cells": [
  {
   "cell_type": "code",
   "execution_count": 2,
   "metadata": {},
   "outputs": [
    {
     "name": "stdout",
     "output_type": "stream",
     "text": [
      "(209, 101, 934)\n",
      "(54645, 2)\n",
      "(209, 101, 934)\n"
     ]
    }
   ],
   "source": [
    "import numpy as np\n",
    "\n",
    "fname_templates = '/mnt/adfe6e7b-b77b-4731-bc9e-e639667faba4/felix/tmp/nn_train/cluster/templates.npy'\n",
    "templates = np.load(fname_templates)\n",
    "print (templates.shape)\n",
    "\n",
    "fname_spike_train = '/mnt/adfe6e7b-b77b-4731-bc9e-e639667faba4/felix/tmp/nn_train/cluster/spike_train.npy'\n",
    "spike_train = np.load(fname_spike_train)\n",
    "print(spike_train.shape)\n",
    "\n",
    "ptps = templates.ptp(1).max(1)\n",
    "idx = np.where(ptps>8.0)[0]\n",
    "\n",
    "templates = templates[idx]\n",
    "print (templates.shape)\n"
   ]
  },
  {
   "cell_type": "code",
   "execution_count": 3,
   "metadata": {},
   "outputs": [
    {
     "name": "stdout",
     "output_type": "stream",
     "text": [
      "[[  21703       0]\n",
      " [  33478       0]\n",
      " [ 126212       0]\n",
      " ...\n",
      " [1953027     208]\n",
      " [2132648     208]\n",
      " [2133747     208]]\n"
     ]
    }
   ],
   "source": [
    "# Delete spike trains for removed templates\n",
    "final_spike_train = np.zeros((0,2),'int32')\n",
    "ctr=0\n",
    "for id_ in idx:\n",
    "    id1 = np.where(spike_train[:,1]==id_)[0]\n",
    "    temp = np.zeros((id1.shape[0],2),'int32')\n",
    "    temp[:,0]=spike_train[id1,0]\n",
    "    temp[:,1]=ctr\n",
    "    \n",
    "    final_spike_train = np.vstack((final_spike_train, temp))\n",
    "    ctr+=1\n",
    "    \n",
    "print (final_spike_train)\n"
   ]
  },
  {
   "cell_type": "code",
   "execution_count": null,
   "metadata": {},
   "outputs": [],
   "source": [
    "# save reduced templates\n",
    "np.save(fname_templates,templates)\n",
    "np.save(fname_spike_train,final_spike_train)"
   ]
  }
 ],
 "metadata": {
  "kernelspec": {
   "display_name": "Python 3",
   "language": "python",
   "name": "python3"
  },
  "language_info": {
   "codemirror_mode": {
    "name": "ipython",
    "version": 3
   },
   "file_extension": ".py",
   "mimetype": "text/x-python",
   "name": "python",
   "nbconvert_exporter": "python",
   "pygments_lexer": "ipython3",
   "version": "3.7.7"
  }
 },
 "nbformat": 4,
 "nbformat_minor": 4
}
