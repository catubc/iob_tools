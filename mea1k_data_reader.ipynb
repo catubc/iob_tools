{
 "cells": [
  {
   "cell_type": "markdown",
   "metadata": {},
   "source": [
    "0. Download and install modules from : https://github.com/SpikeInterface"
   ]
  },
  {
   "cell_type": "code",
   "execution_count": 1,
   "metadata": {},
   "outputs": [
    {
     "data": {
      "application/javascript": [
       "IPython.notebook.set_autosave_interval(180000)"
      ]
     },
     "metadata": {},
     "output_type": "display_data"
    },
    {
     "name": "stdout",
     "output_type": "stream",
     "text": [
      "Autosaving every 180 seconds\n"
     ]
    },
    {
     "data": {
      "text/html": [
       "<style>.container { width:100% !important; }</style>"
      ],
      "text/plain": [
       "<IPython.core.display.HTML object>"
      ]
     },
     "metadata": {},
     "output_type": "display_data"
    }
   ],
   "source": [
    "import matplotlib\n",
    "%autosave 180\n",
    "import matplotlib.pyplot as plt\n",
    "from IPython.core.display import display, HTML\n",
    "display(HTML(\"<style>.container { width:100% !important; }</style>\"))\n",
    "from matplotlib.widgets import Slider, Button, RadioButtons\n",
    "import matplotlib.gridspec as gridspec\n",
    "\n",
    "%matplotlib tk\n",
    "\n",
    "import matplotlib.cm as cm\n",
    "from matplotlib import gridspec\n",
    "\n",
    "import numpy as np\n",
    "import os\n",
    "\n",
    "import h5py\n"
   ]
  },
  {
   "cell_type": "code",
   "execution_count": 2,
   "metadata": {},
   "outputs": [],
   "source": [
    "import spikeextractors as se\n",
    "import spikesorters as ss\n",
    "import spikecomparison as sc\n",
    "import spikewidgets as sw\n",
    "import spikeinterface.toolkit as st\n",
    "\n",
    "import numpy as np\n",
    "import matplotlib.pylab as plt\n",
    "import scipy.signal"
   ]
  },
  {
   "cell_type": "code",
   "execution_count": 3,
   "metadata": {},
   "outputs": [],
   "source": [
    "from scipy.signal import butter, lfilter\n",
    "\n",
    "\n",
    "def butter_bandpass(lowcut, highcut, fs, order=5):\n",
    "    nyq = 0.5 * fs\n",
    "    low = lowcut / nyq\n",
    "    high = highcut / nyq\n",
    "    b, a = butter(order, [low, high], btype='band')\n",
    "    return b, a\n",
    "\n",
    "\n",
    "def butter_bandpass_filter(data, lowcut, highcut, fs, order=5):\n",
    "    b, a = butter_bandpass(lowcut, highcut, fs, order=order)\n",
    "    y = lfilter(b, a, data)\n",
    "    return y"
   ]
  },
  {
   "cell_type": "code",
   "execution_count": 29,
   "metadata": {},
   "outputs": [
    {
     "data": {
      "text/plain": [
       "['bits',\n",
       " 'chipinformation',\n",
       " 'ephys',\n",
       " 'hardware_settings',\n",
       " 'spikesorting',\n",
       " 'time']"
      ]
     },
     "execution_count": 29,
     "metadata": {},
     "output_type": "execute_result"
    }
   ],
   "source": [
    "# load data\n",
    "f = h5py.File('/media/cat/4TBSSD/felix/mea_20190502_141044.raw.h5', 'r')\n",
    "\n",
    "list(f.keys())\n"
   ]
  },
  {
   "cell_type": "code",
   "execution_count": 30,
   "metadata": {},
   "outputs": [
    {
     "name": "stdout",
     "output_type": "stream",
     "text": [
      "traces:  (1024, 3135800)\n"
     ]
    }
   ],
   "source": [
    "traces = f['ephys']['signal']\n",
    "print (\"traces: \", traces.shape)\n",
    "frate = f['ephys']['frame_rate']"
   ]
  },
  {
   "cell_type": "code",
   "execution_count": 31,
   "metadata": {},
   "outputs": [
    {
     "name": "stdout",
     "output_type": "stream",
     "text": [
      "(934,)\n",
      "(934, 2)\n",
      "electrode:  [ 7779 11971 11762 12409 13499  7987  5569  6452  7332  4458]\n",
      "ChanneL:  [1016  227  219  215  538  542  796  437  441  576]\n"
     ]
    }
   ],
   "source": [
    "mapping = f['ephys']['mapping']\n",
    "\n",
    "x = mapping['x']\n",
    "y = mapping['y']\n",
    "print (x.shape)\n",
    "\n",
    "geom = np.vstack((x,y)).T\n",
    "print (geom.shape)\n",
    "np.savetxt('/media/cat/4TBSSD/felix/geom.txt', geom)\n",
    "\n",
    "electrode = f['ephys']['mapping']['electrode']\n",
    "print (\"electrode: \", electrode[:10])\n",
    "\n",
    "channel_ids = mapping['channel']\n",
    "print (\"ChanneL: \", channel_ids[:10])\n",
    "np.savetxt('/media/cat/4TBSSD/felix/channel.txt', channel_ids)\n"
   ]
  },
  {
   "cell_type": "code",
   "execution_count": 11,
   "metadata": {},
   "outputs": [
    {
     "name": "stdout",
     "output_type": "stream",
     "text": [
      "recordings:  (934, 3135800)\n"
     ]
    }
   ],
   "source": [
    "# grab the nonmissing data in the order of the channels\n",
    "recordings = traces[np.sort(channel_ids)]\n",
    "print (\"recordings: \", recordings.shape)\n",
    "\n",
    "\n"
   ]
  },
  {
   "cell_type": "code",
   "execution_count": 12,
   "metadata": {},
   "outputs": [
    {
     "name": "stdout",
     "output_type": "stream",
     "text": [
      "(3135800, 934)\n"
     ]
    }
   ],
   "source": [
    "sorted_idx = np.argsort(channel_ids)\n",
    "    \n",
    "data = recordings[sorted_idx].T\n",
    "print (data.shape)"
   ]
  },
  {
   "cell_type": "code",
   "execution_count": 25,
   "metadata": {},
   "outputs": [
    {
     "name": "stderr",
     "output_type": "stream",
     "text": [
      "/home/cat/.conda/envs/sf/lib/python3.7/site-packages/ipykernel_launcher.py:1: H5pyDeprecationWarning: dataset.value has been deprecated. Use dataset[()] instead.\n",
      "  \"\"\"Entry point for launching an IPython kernel.\n"
     ]
    },
    {
     "name": "stdout",
     "output_type": "stream",
     "text": [
      "[20000.]\n"
     ]
    }
   ],
   "source": [
    "print (frate.value)\n",
    "\n",
    "\n",
    "np.array(data)[channel].tofile(\"/media/cat/4TBSSD/felix/data.bin\")"
   ]
  },
  {
   "cell_type": "code",
   "execution_count": 19,
   "metadata": {},
   "outputs": [],
   "source": [
    "data_read = np.fromfile('/media/cat/4TBSSD/felix/data.bin','int16')\n"
   ]
  },
  {
   "cell_type": "code",
   "execution_count": 20,
   "metadata": {},
   "outputs": [
    {
     "name": "stdout",
     "output_type": "stream",
     "text": [
      "(3135800, 934)\n"
     ]
    }
   ],
   "source": [
    "data_2D = data_read.reshape(934,-1).T\n",
    "print (data_2D.shape)\n",
    "\n",
    "data_2D.tofile('/media/cat/4TBSSD/felix/data_int16.bin')"
   ]
  },
  {
   "cell_type": "code",
   "execution_count": 24,
   "metadata": {},
   "outputs": [
    {
     "name": "stderr",
     "output_type": "stream",
     "text": [
      "Exception in Tkinter callback\n",
      "Traceback (most recent call last):\n",
      "  File \"/home/cat/.conda/envs/sf/lib/python3.7/tkinter/__init__.py\", line 1705, in __call__\n",
      "    return self.func(*args)\n",
      "  File \"/home/cat/.conda/envs/sf/lib/python3.7/tkinter/__init__.py\", line 749, in callit\n",
      "    func(*args)\n",
      "  File \"/home/cat/.conda/envs/sf/lib/python3.7/site-packages/matplotlib/backends/_backend_tk.py\", line 253, in idle_draw\n",
      "    self.draw()\n",
      "  File \"/home/cat/.conda/envs/sf/lib/python3.7/site-packages/matplotlib/backends/backend_tkagg.py\", line 9, in draw\n",
      "    super(FigureCanvasTkAgg, self).draw()\n",
      "  File \"/home/cat/.conda/envs/sf/lib/python3.7/site-packages/matplotlib/backends/backend_agg.py\", line 407, in draw\n",
      "    self.figure.draw(self.renderer)\n",
      "  File \"/home/cat/.conda/envs/sf/lib/python3.7/site-packages/matplotlib/backend_bases.py\", line 1544, in _draw\n",
      "    def _draw(renderer): raise Done(renderer)\n",
      "matplotlib.backend_bases._get_renderer.<locals>.Done: <matplotlib.backends.backend_agg.RendererAgg object at 0x7fef4ec4fa90>\n",
      "Exception in Tkinter callback\n",
      "Traceback (most recent call last):\n",
      "  File \"/home/cat/.conda/envs/sf/lib/python3.7/tkinter/__init__.py\", line 1705, in __call__\n",
      "    return self.func(*args)\n",
      "  File \"/home/cat/.conda/envs/sf/lib/python3.7/site-packages/matplotlib/backends/_backend_tk.py\", line 242, in resize\n",
      "    self.draw()\n",
      "  File \"/home/cat/.conda/envs/sf/lib/python3.7/site-packages/matplotlib/backends/backend_tkagg.py\", line 9, in draw\n",
      "    super(FigureCanvasTkAgg, self).draw()\n",
      "  File \"/home/cat/.conda/envs/sf/lib/python3.7/site-packages/matplotlib/backends/backend_agg.py\", line 407, in draw\n",
      "    self.figure.draw(self.renderer)\n",
      "  File \"/home/cat/.conda/envs/sf/lib/python3.7/site-packages/matplotlib/backend_bases.py\", line 1544, in _draw\n",
      "    def _draw(renderer): raise Done(renderer)\n",
      "matplotlib.backend_bases._get_renderer.<locals>.Done: <matplotlib.backends.backend_agg.RendererAgg object at 0x7fef4ec4fa90>\n",
      "Exception in Tkinter callback\n",
      "Traceback (most recent call last):\n",
      "  File \"/home/cat/.conda/envs/sf/lib/python3.7/tkinter/__init__.py\", line 1705, in __call__\n",
      "    return self.func(*args)\n",
      "  File \"/home/cat/.conda/envs/sf/lib/python3.7/tkinter/__init__.py\", line 749, in callit\n",
      "    func(*args)\n",
      "  File \"/home/cat/.conda/envs/sf/lib/python3.7/site-packages/matplotlib/backends/_backend_tk.py\", line 253, in idle_draw\n",
      "    self.draw()\n",
      "  File \"/home/cat/.conda/envs/sf/lib/python3.7/site-packages/matplotlib/backends/backend_tkagg.py\", line 9, in draw\n",
      "    super(FigureCanvasTkAgg, self).draw()\n",
      "  File \"/home/cat/.conda/envs/sf/lib/python3.7/site-packages/matplotlib/backends/backend_agg.py\", line 407, in draw\n",
      "    self.figure.draw(self.renderer)\n",
      "  File \"/home/cat/.conda/envs/sf/lib/python3.7/site-packages/matplotlib/backend_bases.py\", line 1544, in _draw\n",
      "    def _draw(renderer): raise Done(renderer)\n",
      "matplotlib.backend_bases._get_renderer.<locals>.Done: <matplotlib.backends.backend_agg.RendererAgg object at 0x7fef4ec4fa90>\n"
     ]
    },
    {
     "data": {
      "image/png": "[encoded data removed]",
      "text/plain": [
       "<Figure size 432x288 with 1 Axes>"
      ]
     },
     "metadata": {
      "needs_background": "light"
     },
     "output_type": "display_data"
    }
   ],
   "source": [
    "for k in range(10):\n",
    "    plt.plot(data_2D[:5000,k]+k*10)\n",
    "plt.show()"
   ]
  },
  {
   "cell_type": "code",
   "execution_count": null,
   "metadata": {},
   "outputs": [],
   "source": []
  },
  {
   "cell_type": "code",
   "execution_count": 17,
   "metadata": {},
   "outputs": [],
   "source": [
    "# Sample rate and desired cutoff frequencies (in Hz).\n",
    "fs = 20000.0\n",
    "lowcut = 300.0\n",
    "highcut = 6000.0\n",
    "\n",
    "from scipy.signal import freqz\n",
    "    \n",
    "for k in range(data.shape[0]):\n",
    "    filtered = butter_bandpass_filter(data[k,10000:15000],lowcut,highcut,fs)  \n",
    "    plt.plot(filtered+k*10,c='black')\n",
    "plt.show()"
   ]
  },
  {
   "cell_type": "code",
   "execution_count": 43,
   "metadata": {},
   "outputs": [],
   "source": [
    "\n",
    "\n",
    "\n"
   ]
  },
  {
   "cell_type": "code",
   "execution_count": null,
   "metadata": {},
   "outputs": [],
   "source": []
  },
  {
   "cell_type": "code",
   "execution_count": null,
   "metadata": {},
   "outputs": [],
   "source": []
  },
  {
   "cell_type": "code",
   "execution_count": 5,
   "metadata": {},
   "outputs": [],
   "source": [
    "import sys, os\n",
    "sys.path.append(os.getcwd() + '/../spikeextractors')\n",
    "sys.path.append(os.getcwd() + '/../spikesorters')\n",
    "sys.path.append(os.getcwd() + '/../spikecomparison')\n",
    "sys.path.append(os.getcwd() + '/../spikewidgets')\n",
    "sys.path.append(os.getcwd() + '/../spikeinterface')"
   ]
  },
  {
   "cell_type": "markdown",
   "metadata": {},
   "source": [
    "1. Import modules"
   ]
  },
  {
   "cell_type": "code",
   "execution_count": 6,
   "metadata": {},
   "outputs": [],
   "source": []
  },
  {
   "cell_type": "markdown",
   "metadata": {},
   "source": [
    "2. Load a test file:"
   ]
  },
  {
   "cell_type": "code",
   "execution_count": 8,
   "metadata": {},
   "outputs": [
    {
     "name": "stdout",
     "output_type": "stream",
     "text": [
      "Chip version: 20170126\n"
     ]
    }
   ],
   "source": [
    "test_file_name = '/media/cat/4TBSSD/felix/mea_20190502_141044.raw.h5'\n",
    "    \n",
    "recording = se.Mea1kRecordingExtractor(test_file_name) #(or MaxOneRecordingExtractor)"
   ]
  },
  {
   "cell_type": "code",
   "execution_count": 10,
   "metadata": {},
   "outputs": [],
   "source": [
    "recording_bp = st.preprocessing.bandpass_filter(recording, freq_min=300, freq_max=6000)\n",
    "recording_car = st.preprocessing.common_reference(recording, reference='average')"
   ]
  },
  {
   "cell_type": "markdown",
   "metadata": {},
   "source": [
    "Plot some raw data:"
   ]
  },
  {
   "cell_type": "code",
   "execution_count": 9,
   "metadata": {},
   "outputs": [],
   "source": [
    "sw.plot_timeseries(recording, trange=[1,2], channel_ids=[0,1,2,3])\n",
    "plt.show()"
   ]
  },
  {
   "cell_type": "code",
   "execution_count": null,
   "metadata": {},
   "outputs": [],
   "source": [
    "print (recording.get_traces())\n",
    "\n"
   ]
  },
  {
   "cell_type": "code",
   "execution_count": null,
   "metadata": {},
   "outputs": [],
   "source": [
    "traces = recording_bp.get_traces().shape"
   ]
  },
  {
   "cell_type": "markdown",
   "metadata": {},
   "source": [
    "Alternatively, to see how raw traces are accessed:"
   ]
  },
  {
   "cell_type": "code",
   "execution_count": 11,
   "metadata": {},
   "outputs": [
    {
     "data": {
      "text/plain": [
       "[<matplotlib.lines.Line2D at 0x7fef51a49610>]"
      ]
     },
     "execution_count": 11,
     "metadata": {},
     "output_type": "execute_result"
    },
    {
     "data": {
      "image/png": "[encoded data removed]",
      "text/plain": [
       "<Figure size 432x288 with 1 Axes>"
      ]
     },
     "metadata": {
      "needs_background": "light"
     },
     "output_type": "display_data"
    },
    {
     "data": {
      "image/png": "[encoded data removed]",
      "text/plain": [
       "<Figure size 432x288 with 1 Axes>"
      ]
     },
     "metadata": {
      "needs_background": "light"
     },
     "output_type": "display_data"
    }
   ],
   "source": [
    "%matplotlib inline\n",
    "fig1, ax1 = plt.subplots()\n",
    "ax1.plot(recording.get_traces(channel_ids=0, start_frame=20000, end_frame=40000)[0])\n",
    "\n",
    "fig2, ax2 = plt.subplots()\n",
    "ax2.plot(recording.get_traces(channel_ids=0, start_frame=20000, end_frame=40000)[0])"
   ]
  },
  {
   "cell_type": "markdown",
   "metadata": {},
   "source": [
    "Plot the electrode configuration:"
   ]
  },
  {
   "cell_type": "code",
   "execution_count": 12,
   "metadata": {},
   "outputs": [
    {
     "data": {
      "text/plain": [
       "<spikewidgets.widgets.electrodegeometrywidget.electrodegeometrywidget.ElectrodeGeometryWidget at 0x7fef51a9a490>"
      ]
     },
     "execution_count": 12,
     "metadata": {},
     "output_type": "execute_result"
    },
    {
     "data": {
      "image/png": "[encoded data removed]",
      "text/plain": [
       "<Figure size 432x288 with 1 Axes>"
      ]
     },
     "metadata": {},
     "output_type": "display_data"
    }
   ],
   "source": [
    "sw.plot_electrode_geometry(recording)"
   ]
  },
  {
   "cell_type": "code",
   "execution_count": 13,
   "metadata": {},
   "outputs": [
    {
     "data": {
      "text/plain": [
       "array([[1382.5,  612.5],\n",
       "       [1592.5,  945. ],\n",
       "       [1785. ,  927.5],\n",
       "       ...,\n",
       "       [1540. ,  997.5],\n",
       "       [1050. ,  595. ],\n",
       "       [1067.5,  647.5]])"
      ]
     },
     "execution_count": 13,
     "metadata": {},
     "output_type": "execute_result"
    }
   ],
   "source": [
    "recording.get_channel_locations()"
   ]
  },
  {
   "cell_type": "markdown",
   "metadata": {},
   "source": [
    "3. Start HDsort (same as Mysort) spike-sorter.\n",
    "This requires the spike-sorter to be set up correctly in the background. HDsort is written in Matlab."
   ]
  },
  {
   "cell_type": "code",
   "execution_count": 30,
   "metadata": {},
   "outputs": [
    {
     "name": "stdout",
     "output_type": "stream",
     "text": [
      "{'detect_threshold': 4.2, 'detect_sign': -1, 'filter': True, 'parfor': True, 'hpf': 300, 'lpf': 7000, 'n_pc_dims': 6, 'chunk_size': 500000, 'loop_mode': 'local_parfor'}\n"
     ]
    }
   ],
   "source": [
    "params = ss.get_default_params('hdsort')\n",
    "print(params)"
   ]
  },
  {
   "cell_type": "code",
   "execution_count": 7,
   "metadata": {},
   "outputs": [
    {
     "name": "stdout",
     "output_type": "stream",
     "text": [
      "Using Mea1k format\n",
      "RUNNING SHELL SCRIPT: /var/folders/lk/jnqk24c91y71djhsqpyp39z4003ztn/T/tmp_shellscript89wx569d/script.sh\n"
     ]
    }
   ],
   "source": [
    "sort_hd = ss.run_hdsort(recording, **params)"
   ]
  },
  {
   "cell_type": "code",
   "execution_count": 9,
   "metadata": {},
   "outputs": [
    {
     "name": "stdout",
     "output_type": "stream",
     "text": [
      "<spikeextractors.extractors.mdaextractors.mdaextractors.MdaSortingExtractor object at 0x1222ecd68>\n"
     ]
    }
   ],
   "source": [
    "print(sort_hd)"
   ]
  },
  {
   "cell_type": "code",
   "execution_count": 21,
   "metadata": {},
   "outputs": [],
   "source": [
    "unit_id = sort_hd.get_unit_ids()\n",
    "st = sort_hd.get_unit_spike_train(unit_id[0])"
   ]
  },
  {
   "cell_type": "code",
   "execution_count": null,
   "metadata": {},
   "outputs": [],
   "source": []
  },
  {
   "cell_type": "code",
   "execution_count": 61,
   "metadata": {},
   "outputs": [
    {
     "name": "stdout",
     "output_type": "stream",
     "text": [
      "(611, 61, 934)\n"
     ]
    }
   ],
   "source": [
    "temps = np.load('/media/cat/4TBSSD/felix/tmp/output/templates_0sec.npy')\n",
    "\n",
    "print (temps.shape)"
   ]
  },
  {
   "cell_type": "code",
   "execution_count": 6,
   "metadata": {},
   "outputs": [],
   "source": [
    "for k in range(100):\n",
    "    ax=plt.subplot(10,10,k+1)\n",
    "    plt.plot(temps[k])\n",
    "    plt.xticks([])\n",
    "plt.show()"
   ]
  },
  {
   "cell_type": "code",
   "execution_count": 21,
   "metadata": {},
   "outputs": [
    {
     "name": "stdout",
     "output_type": "stream",
     "text": [
      "(9899117, 2)\n",
      "[[       0      609]\n",
      " [       0      519]\n",
      " [       0       40]\n",
      " ...\n",
      " [87569662      584]\n",
      " [87569663      216]\n",
      " [87569665      525]]\n"
     ]
    }
   ],
   "source": [
    "spike_train = np.load('/media/cat/4TBSSD/felix/tmp/output/spike_train.npy')\n",
    "print (spike_train.shape)\n",
    "print (spike_train)"
   ]
  },
  {
   "cell_type": "code",
   "execution_count": 8,
   "metadata": {},
   "outputs": [],
   "source": [
    "fnames = ['/media/cat/4TBSSD/felix/tmp/output/drive-download-20201016T081418Z-001/mea_20190502_140013.raw_frame_numbers.npy',\n",
    "'/media/cat/4TBSSD/felix/tmp/output/drive-download-20201016T081418Z-001/mea_20190502_140614.raw_frame_numbers.npy',\n",
    "'/media/cat/4TBSSD/felix/tmp/output/drive-download-20201016T081418Z-001/mea_20190502_141044.raw_frame_numbers.npy',\n",
    "'/media/cat/4TBSSD/felix/tmp/output/drive-download-20201016T081418Z-001/mea_20190502_141546.raw_frame_numbers.npy',\n",
    "'/media/cat/4TBSSD/felix/tmp/output/drive-download-20201016T081418Z-001/mea_20190502_143106.raw_frame_numbers.npy',\n",
    "'/media/cat/4TBSSD/felix/tmp/output/drive-download-20201016T081418Z-001/mea_20190502_144649.raw_frame_numbers.npy',\n",
    "'/media/cat/4TBSSD/felix/tmp/output/drive-download-20201016T081418Z-001/mea_20190502_145006.raw_frame_numbers.npy',\n",
    "'/media/cat/4TBSSD/felix/tmp/output/drive-download-20201016T081418Z-001/mea_20190502_150529.raw_frame_numbers.npy']\n"
   ]
  },
  {
   "cell_type": "code",
   "execution_count": 24,
   "metadata": {},
   "outputs": [
    {
     "name": "stdout",
     "output_type": "stream",
     "text": [
      "254158500\n",
      "(87569700,)\n"
     ]
    }
   ],
   "source": [
    "# make real-time spiketimes\n",
    "final_frames = []\n",
    "frame0 = np.load(fnames[0])[0]\n",
    "print (frame0)\n",
    "for fname in fnames:\n",
    "    frames = np.load(fname)\n",
    "    final_frames.append(frames-frame0)\n",
    "\n",
    "final_frames.append(np.zeros(100,'int32')+87569665)\n",
    "final_frames = np.hstack(final_frames)\n",
    "\n",
    "# append a few values at end, they are missed by real-time frame #s for some reason\n",
    "\n",
    "print (final_frames.shape)\n",
    "\n"
   ]
  },
  {
   "cell_type": "code",
   "execution_count": 66,
   "metadata": {},
   "outputs": [
    {
     "name": "stdout",
     "output_type": "stream",
     "text": [
      "[[       0      609]\n",
      " [       0      519]\n",
      " [       0       40]\n",
      " ...\n",
      " [87569665      584]\n",
      " [87569665      216]\n",
      " [87569665      525]]\n"
     ]
    }
   ],
   "source": [
    "# MAKE FINAL SPIKE TRAIN\n",
    "spike_train_realtime = spike_train.copy()\n",
    "spike_train_realtime[:,0] = final_frames[spike_train[:,0]]\n",
    "print (spike_train_realtime)\n",
    "np.save('/media/cat/4TBSSD/felix/tmp/output/spike_train_realtime.npy', spike_train_realtime)"
   ]
  },
  {
   "cell_type": "code",
   "execution_count": 65,
   "metadata": {},
   "outputs": [
    {
     "name": "stdout",
     "output_type": "stream",
     "text": [
      "(611, 502848)\n"
     ]
    }
   ],
   "source": [
    "# plot rasters:\n",
    "window = 60 * 30000\n",
    "img = np.zeros((temps.shape[0],100569665//20//10))\n",
    "print (img.shape)\n",
    "fig=plt.figure()\n",
    "ax=plt.subplot(111)\n",
    "for k in range(temps.shape[0]):\n",
    "    idx = np.where(spike_train_realtime[:,1]==k)[0]\n",
    "    times = spike_train_realtime[idx,0]\n",
    "    #print (\"times: \", times.shape, times[:10],times[-10:])\n",
    "    times_binned = times//20//10\n",
    "    #print (\"times bineed: \", times_binned[:10],times_binned[-10:])\n",
    "    img[k,times_binned]=1\n",
    "    #plt.scatter(times, times*0+k, c='black')\n",
    "plt.imshow(img,aspect='auto',cmap='Greys',interpolation='none')\n",
    "plt.xticks(np.arange(0,502848,50000), np.arange(0,502848,50000)//100//60)\n",
    "plt.ylabel(\"Neuron ID\", fontsize=40)\n",
    "plt.xlabel(\"Time (min)\",fontsize=40)\n",
    "ax.tick_params('both',labelsize=40)\n",
    "plt.suptitle('Experiment: mea_20190502',fontsize=40)\n",
    "plt.show()\n"
   ]
  },
  {
   "cell_type": "code",
   "execution_count": 23,
   "metadata": {},
   "outputs": [
    {
     "name": "stdout",
     "output_type": "stream",
     "text": [
      "(934, 2)\n",
      "(611, 61, 934)\n"
     ]
    }
   ],
   "source": [
    "geom = np.loadtxt('/home/cat/Downloads/geom.txt')\n",
    "print (geom.shape)\n",
    "templates = np.load('/home/cat/Downloads/templates_0sec.npy')\n",
    "print (templates.shape)"
   ]
  },
  {
   "cell_type": "code",
   "execution_count": 26,
   "metadata": {},
   "outputs": [
    {
     "ename": "NameError",
     "evalue": "name 'f' is not defined",
     "output_type": "error",
     "traceback": [
      "\u001b[0;31m---------------------------------------------------------------------------\u001b[0m",
      "\u001b[0;31mNameError\u001b[0m                                 Traceback (most recent call last)",
      "\u001b[0;32m<ipython-input-26-9d67dae2d450>\u001b[0m in \u001b[0;36m<module>\u001b[0;34m\u001b[0m\n\u001b[0;32m----> 1\u001b[0;31m \u001b[0mmapping\u001b[0m \u001b[0;34m=\u001b[0m \u001b[0mf\u001b[0m\u001b[0;34m[\u001b[0m\u001b[0;34m'ephys'\u001b[0m\u001b[0;34m]\u001b[0m\u001b[0;34m[\u001b[0m\u001b[0;34m'mapping'\u001b[0m\u001b[0;34m]\u001b[0m\u001b[0;34m\u001b[0m\u001b[0;34m\u001b[0m\u001b[0m\n\u001b[0m\u001b[1;32m      2\u001b[0m \u001b[0mprint\u001b[0m \u001b[0;34m(\u001b[0m\u001b[0mmapping\u001b[0m\u001b[0;34m[\u001b[0m\u001b[0;34m'x'\u001b[0m\u001b[0;34m]\u001b[0m\u001b[0;34m.\u001b[0m\u001b[0mshape\u001b[0m\u001b[0;34m)\u001b[0m\u001b[0;34m\u001b[0m\u001b[0;34m\u001b[0m\u001b[0m\n\u001b[1;32m      3\u001b[0m \u001b[0mx\u001b[0m \u001b[0;34m=\u001b[0m \u001b[0mmapping\u001b[0m\u001b[0;34m[\u001b[0m\u001b[0;34m'x'\u001b[0m\u001b[0;34m]\u001b[0m\u001b[0;34m\u001b[0m\u001b[0;34m\u001b[0m\u001b[0m\n\u001b[1;32m      4\u001b[0m \u001b[0my\u001b[0m \u001b[0;34m=\u001b[0m \u001b[0mmapping\u001b[0m\u001b[0;34m[\u001b[0m\u001b[0;34m'y'\u001b[0m\u001b[0;34m]\u001b[0m\u001b[0;34m\u001b[0m\u001b[0;34m\u001b[0m\u001b[0m\n\u001b[1;32m      5\u001b[0m \u001b[0mchannel\u001b[0m \u001b[0;34m=\u001b[0m \u001b[0mmapping\u001b[0m\u001b[0;34m[\u001b[0m\u001b[0;34m'channel'\u001b[0m\u001b[0;34m]\u001b[0m\u001b[0;34m\u001b[0m\u001b[0;34m\u001b[0m\u001b[0m\n",
      "\u001b[0;31mNameError\u001b[0m: name 'f' is not defined"
     ]
    }
   ],
   "source": [
    "mapping = f['ephys']['mapping']\n",
    "print (mapping['x'].shape)\n",
    "x = mapping['x']\n",
    "y = mapping['y']\n",
    "channel = mapping['channel']\n",
    "print (channel.shape)\n",
    "print (x.shape)\n",
    "\n",
    "geom = np.vstack((x,y)).T\n",
    "print (geom.shape)\n",
    "print (geom)"
   ]
  },
  {
   "cell_type": "code",
   "execution_count": 18,
   "metadata": {},
   "outputs": [
    {
     "data": {
      "text/plain": [
       "array([[1382.5,  612.5],\n",
       "       [1592.5,  945. ],\n",
       "       [1785. ,  927.5],\n",
       "       ...,\n",
       "       [1540. ,  997.5],\n",
       "       [1050. ,  595. ],\n",
       "       [1067.5,  647.5]])"
      ]
     },
     "execution_count": 18,
     "metadata": {},
     "output_type": "execute_result"
    }
   ],
   "source": [
    "recording.get_channel_locations()"
   ]
  },
  {
   "cell_type": "code",
   "execution_count": 90,
   "metadata": {},
   "outputs": [
    {
     "name": "stdout",
     "output_type": "stream",
     "text": [
      "(8, 61, 934)\n"
     ]
    }
   ],
   "source": [
    "geom = np.loadtxt('/home/cat/Downloads/geom(2).txt')\n",
    "templates = np.load('/home/cat/Downloads/templates.npy')\n",
    "templates = np.load('/home/cat/Downloads/cluster_result_432/templates.npy')\n",
    "print (templates.shape)\n",
    "\n"
   ]
  },
  {
   "cell_type": "code",
   "execution_count": 113,
   "metadata": {},
   "outputs": [
    {
     "name": "stdout",
     "output_type": "stream",
     "text": [
      "(20000, 934)\n"
     ]
    }
   ],
   "source": [
    "from scipy.signal import freqz\n",
    "\n",
    "data_int16 = np.fromfile('/media/cat/4TBSSD/felix/data_int16.bin','int16',20000*934*1)\n",
    "#data_int16 = np.fromfile('/media/cat/4TBSSD/felix/data.bin','uint16',20000*934*1)\n",
    "#data_int16 = np.fromfile('/home/cat/Downloads/mea_20190502_140013.raw.all.redone.2sec.bin','int16')\n",
    "#data_int16 = np.fromfile('/home/cat/Downloads/mea_20190502_140013.raw.all.2sec.bin','int16')\n",
    "data2d = np.int16(data_int16).reshape(-1,934)\n",
    "print (data2d.shape)\n",
    "    \n",
    "lowcut=300\n",
    "highcut=5000\n",
    "fs = 20000\n",
    "for k in range(data2d.shape[1]):\n",
    "    filtered = butter_bandpass_filter(data2d[:,k],lowcut,highcut,fs)  \n",
    "    data2d[:,k] = filtered"
   ]
  },
  {
   "cell_type": "code",
   "execution_count": 123,
   "metadata": {},
   "outputs": [
    {
     "name": "stdout",
     "output_type": "stream",
     "text": [
      "(816, 161, 934)\n"
     ]
    }
   ],
   "source": [
    "templates_old = np.load('/media/cat/4TBSSD/felix/tmp/nn_train/augment/templates/templates.npy')\n",
    "print (templates_old.shape)"
   ]
  },
  {
   "cell_type": "code",
   "execution_count": 127,
   "metadata": {
    "scrolled": true
   },
   "outputs": [
    {
     "name": "stdout",
     "output_type": "stream",
     "text": [
      "larger templates;  (14, 161, 934)\n"
     ]
    }
   ],
   "source": [
    "ptps = templates_old.ptp(1).max(1)\n",
    "idx = np.where(ptps>16.0)[0]\n",
    "templates=templates_old[idx]\n",
    "print (\"larger templates; \", templates.shape)\n",
    "unit = 10\n",
    "\n",
    "\n",
    "#for k in range(geom.shape[0]):\n",
    "#print (channel_ids)\n",
    "idx = np.argsort(channel_ids)\n",
    "width = 200\n",
    "offset = 6000-50\n",
    "yscale = 1\n",
    "\n",
    "width = templates.shape[1]\n",
    "\n",
    "for k in np.arange(templates.shape[2]):    \n",
    "    plt.plot(geom[k,0]+np.arange(width)/(width/5), \n",
    "             templates[unit,:,k]/yscale+geom[k,1],c='black')\n",
    "             #data2d[offset:offset+width,k]/yscale+geom[k,1],c='black')\n",
    "plt.show()"
   ]
  },
  {
   "cell_type": "code",
   "execution_count": 7,
   "metadata": {},
   "outputs": [
    {
     "name": "stdout",
     "output_type": "stream",
     "text": [
      "Chip version: 20170126\n"
     ]
    }
   ],
   "source": [
    "from pathlib import Path\n",
    "\n",
    "path = Path('/media/cat/4TBSSD/felix')\n",
    "\n",
    "rec_paths = sorted([p for p in path.iterdir() if p.suffix == '.h5'])\n",
    "\n",
    "recompute = True\n",
    "recordings = []\n",
    "for i, rec in enumerate(rec_paths):\n",
    "    recording = se.Mea1kRecordingExtractor(rec)\n",
    "    if i == 0:\n",
    "        channel_order = recording.get_channel_ids()\n",
    "        recording_sorted = recording\n",
    "    else:\n",
    "        recording_sorted = se.SubRecordingExtractor(recording, channel_ids=channel_order)\n",
    "    recordings.append(recording_sorted)\n",
    "\n",
    "multirec = se.MultiRecordingTimeExtractor(recordings)\n",
    "\n",
    "multirec.write_to_binary_dat_format('/home/cat/recording.dat')"
   ]
  },
  {
   "cell_type": "code",
   "execution_count": null,
   "metadata": {},
   "outputs": [],
   "source": [
    "def get_traces(self, channel_ids=None, start_frame=None, end_frame=None):\n",
    "    if np.array(channel_ids).size > 1:\n",
    "        if np.any(np.diff(channel_ids) < 0):\n",
    "            sorted_idx = np.argsort(channel_ids)\n",
    "            recordings = self._signals[np.sort(channel_ids), start_frame:end_frame]\n",
    "            return recordings[sorted_idx].astype('float')\n",
    "        else:\n",
    "            return (self._signals[np.array(channel_ids), start_frame:end_frame] * self._lsb).astype('float32')\n",
    "    else:\n",
    "        return (self._signals[np.array(channel_ids), start_frame:end_frame] * self._lsb).astype('float32')\n",
    "\n"
   ]
  },
  {
   "cell_type": "code",
   "execution_count": null,
   "metadata": {},
   "outputs": [],
   "source": []
  },
  {
   "cell_type": "code",
   "execution_count": null,
   "metadata": {},
   "outputs": [],
   "source": []
  },
  {
   "cell_type": "code",
   "execution_count": null,
   "metadata": {},
   "outputs": [],
   "source": []
  },
  {
   "cell_type": "code",
   "execution_count": null,
   "metadata": {},
   "outputs": [],
   "source": []
  }
 ],
 "metadata": {
  "kernelspec": {
   "display_name": "Python 3",
   "language": "python",
   "name": "python3"
  },
  "language_info": {
   "codemirror_mode": {
    "name": "ipython",
    "version": 3
   },
   "file_extension": ".py",
   "mimetype": "text/x-python",
   "name": "python",
   "nbconvert_exporter": "python",
   "pygments_lexer": "ipython3",
   "version": "3.7.7"
  }
 },
 "nbformat": 4,
 "nbformat_minor": 4
}
