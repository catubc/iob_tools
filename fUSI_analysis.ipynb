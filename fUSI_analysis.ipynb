{
 "cells": [
  {
   "cell_type": "markdown",
   "metadata": {},
   "source": [
    "0. Download and install modules from : https://github.com/SpikeInterface"
   ]
  },
  {
   "cell_type": "code",
   "execution_count": 10,
   "metadata": {},
   "outputs": [
    {
     "data": {
      "application/javascript": [
       "IPython.notebook.set_autosave_interval(180000)"
      ]
     },
     "metadata": {},
     "output_type": "display_data"
    },
    {
     "name": "stdout",
     "output_type": "stream",
     "text": [
      "Autosaving every 180 seconds\n"
     ]
    },
    {
     "data": {
      "text/html": [
       "<style>.container { width:100% !important; }</style>"
      ],
      "text/plain": [
       "<IPython.core.display.HTML object>"
      ]
     },
     "metadata": {},
     "output_type": "display_data"
    }
   ],
   "source": [
    "import matplotlib\n",
    "%autosave 180\n",
    "import matplotlib.pyplot as plt\n",
    "from IPython.core.display import display, HTML\n",
    "display(HTML(\"<style>.container { width:100% !important; }</style>\"))\n",
    "from matplotlib.widgets import Slider, Button, RadioButtons\n",
    "import matplotlib.gridspec as gridspec\n",
    "\n",
    "%matplotlib tk\n",
    "\n",
    "import matplotlib.cm as cm\n",
    "from matplotlib import gridspec\n",
    "\n",
    "import numpy as np\n",
    "import os\n",
    "\n",
    "import h5py\n"
   ]
  },
  {
   "cell_type": "code",
   "execution_count": 11,
   "metadata": {},
   "outputs": [
    {
     "name": "stdout",
     "output_type": "stream",
     "text": [
      "(145, 128, 20, 46)\n",
      "(145, 128, 20, 46)\n"
     ]
    }
   ],
   "source": [
    "Imap = np.load('/home/cat/Imap.npy')\n",
    "print (Imap.shape)\n",
    "IOKR = np.load('/home/cat/IOKR_bi.npy')\n",
    "print (IOKR.shape)\n",
    "\n",
    "IOKR_uni = np.load('/home/cat/IOKR_uni.npy')"
   ]
  },
  {
   "cell_type": "code",
   "execution_count": 12,
   "metadata": {},
   "outputs": [],
   "source": [
    "Imap_mean = Imap.mean(2)\n",
    "IOKR_mean = IOKR.mean(2)\n",
    "IOKR_uni_mean = IOKR_uni.mean(2)\n"
   ]
  },
  {
   "cell_type": "code",
   "execution_count": 16,
   "metadata": {},
   "outputs": [],
   "source": [
    "scale = 10\n",
    "vmin = np.min(Imap_mean)/scale\n",
    "vmax=np.max(Imap_mean)/scale\n",
    "    #print (vmin,vmax)\n",
    "    \n",
    "imgs = []\n",
    "imgs2= []\n",
    "for k in range(46):\n",
    "    ax=plt.subplot(7,7,k+1)\n",
    "    temp = Imap_mean[:,:,k]-IOKR_mean[:,:,k]\n",
    "    \n",
    "    plt.imshow(temp,vmin=vmin, vmax=vmax)\n",
    "    plt.xticks([])\n",
    "    plt.yticks([])\n",
    "    plt.title(str(round(k*0.1-4.5,1)),pad=0.9)\n",
    "    \n",
    "    \n",
    "    temp = Imap_mean[:,:,k]-IOKR_mean[:,:,k]\n",
    "    idx = np.where(temp>vmax)\n",
    "    temp[idx]=vmax\n",
    "    idx = np.where(temp<vmin)\n",
    "    temp[idx]=vmin   \n",
    "    temp = temp/Imap_mean[:,:,k]\n",
    "    imgs.append(temp)\n",
    "    \n",
    "    \n",
    "    \n",
    "    temp2 = Imap_mean[:,:,k]-IOKR_uni_mean[:,:,k]\n",
    "    idx = np.where(temp2>vmax)\n",
    "    temp2[idx]=vmax\n",
    "    idx = np.where(temp2<vmin)\n",
    "    temp2[idx]=vmin\n",
    "    temp2=temp2/Imap_mean[:,:,k]\n",
    "    \n",
    "    imgs2.append(temp2)\n",
    "    \n",
    "plt.show()"
   ]
  },
  {
   "cell_type": "code",
   "execution_count": 18,
   "metadata": {},
   "outputs": [
    {
     "ename": "IndexError",
     "evalue": "list index out of range",
     "output_type": "error",
     "traceback": [
      "\u001b[0;31m---------------------------------------------------------------------------\u001b[0m",
      "\u001b[0;31mIndexError\u001b[0m                                Traceback (most recent call last)",
      "\u001b[0;32m<ipython-input-18-0332e80b1e1f>\u001b[0m in \u001b[0;36m<module>\u001b[0;34m\u001b[0m\n\u001b[1;32m     39\u001b[0m \u001b[0;31m#ani = animation.ArtistAnimation(fig, img, interval=20, blit=True, repeat_delay=0)\u001b[0m\u001b[0;34m\u001b[0m\u001b[0;34m\u001b[0m\u001b[0;34m\u001b[0m\u001b[0m\n\u001b[1;32m     40\u001b[0m \u001b[0;34m\u001b[0m\u001b[0m\n\u001b[0;32m---> 41\u001b[0;31m \u001b[0mani\u001b[0m\u001b[0;34m.\u001b[0m\u001b[0msave\u001b[0m\u001b[0;34m(\u001b[0m\u001b[0;34m'/home/cat/OKR_both.avi'\u001b[0m\u001b[0;34m,\u001b[0m \u001b[0mwriter\u001b[0m\u001b[0;34m=\u001b[0m\u001b[0;34m\"ffmpeg\"\u001b[0m\u001b[0;34m)\u001b[0m\u001b[0;34m\u001b[0m\u001b[0;34m\u001b[0m\u001b[0m\n\u001b[0m\u001b[1;32m     42\u001b[0m \u001b[0;34m\u001b[0m\u001b[0m\n\u001b[1;32m     43\u001b[0m \u001b[0mprint\u001b[0m\u001b[0;34m(\u001b[0m\u001b[0mtime\u001b[0m\u001b[0;34m.\u001b[0m\u001b[0mclock\u001b[0m\u001b[0;34m(\u001b[0m\u001b[0;34m)\u001b[0m\u001b[0;34m)\u001b[0m\u001b[0;34m\u001b[0m\u001b[0;34m\u001b[0m\u001b[0m\n",
      "\u001b[0;32m~/anaconda3/lib/python3.8/site-packages/matplotlib/animation.py\u001b[0m in \u001b[0;36msave\u001b[0;34m(self, filename, writer, fps, dpi, codec, bitrate, extra_args, metadata, extra_anim, savefig_kwargs, progress_callback)\u001b[0m\n\u001b[1;32m   1146\u001b[0m                     \u001b[0;32mfor\u001b[0m \u001b[0manim\u001b[0m\u001b[0;34m,\u001b[0m \u001b[0md\u001b[0m \u001b[0;32min\u001b[0m \u001b[0mzip\u001b[0m\u001b[0;34m(\u001b[0m\u001b[0mall_anim\u001b[0m\u001b[0;34m,\u001b[0m \u001b[0mdata\u001b[0m\u001b[0;34m)\u001b[0m\u001b[0;34m:\u001b[0m\u001b[0;34m\u001b[0m\u001b[0;34m\u001b[0m\u001b[0m\n\u001b[1;32m   1147\u001b[0m                         \u001b[0;31m# TODO: See if turning off blit is really necessary\u001b[0m\u001b[0;34m\u001b[0m\u001b[0;34m\u001b[0m\u001b[0;34m\u001b[0m\u001b[0m\n\u001b[0;32m-> 1148\u001b[0;31m                         \u001b[0manim\u001b[0m\u001b[0;34m.\u001b[0m\u001b[0m_draw_next_frame\u001b[0m\u001b[0;34m(\u001b[0m\u001b[0md\u001b[0m\u001b[0;34m,\u001b[0m \u001b[0mblit\u001b[0m\u001b[0;34m=\u001b[0m\u001b[0;32mFalse\u001b[0m\u001b[0;34m)\u001b[0m\u001b[0;34m\u001b[0m\u001b[0;34m\u001b[0m\u001b[0m\n\u001b[0m\u001b[1;32m   1149\u001b[0m                         \u001b[0;32mif\u001b[0m \u001b[0mprogress_callback\u001b[0m \u001b[0;32mis\u001b[0m \u001b[0;32mnot\u001b[0m \u001b[0;32mNone\u001b[0m\u001b[0;34m:\u001b[0m\u001b[0;34m\u001b[0m\u001b[0;34m\u001b[0m\u001b[0m\n\u001b[1;32m   1150\u001b[0m                             \u001b[0mprogress_callback\u001b[0m\u001b[0;34m(\u001b[0m\u001b[0mframe_number\u001b[0m\u001b[0;34m,\u001b[0m \u001b[0mtotal_frames\u001b[0m\u001b[0;34m)\u001b[0m\u001b[0;34m\u001b[0m\u001b[0;34m\u001b[0m\u001b[0m\n",
      "\u001b[0;32m~/anaconda3/lib/python3.8/site-packages/matplotlib/animation.py\u001b[0m in \u001b[0;36m_draw_next_frame\u001b[0;34m(self, framedata, blit)\u001b[0m\n\u001b[1;32m   1186\u001b[0m         \u001b[0;31m# post- draw, as well as the drawing of the frame itself.\u001b[0m\u001b[0;34m\u001b[0m\u001b[0;34m\u001b[0m\u001b[0;34m\u001b[0m\u001b[0m\n\u001b[1;32m   1187\u001b[0m         \u001b[0mself\u001b[0m\u001b[0;34m.\u001b[0m\u001b[0m_pre_draw\u001b[0m\u001b[0;34m(\u001b[0m\u001b[0mframedata\u001b[0m\u001b[0;34m,\u001b[0m \u001b[0mblit\u001b[0m\u001b[0;34m)\u001b[0m\u001b[0;34m\u001b[0m\u001b[0;34m\u001b[0m\u001b[0m\n\u001b[0;32m-> 1188\u001b[0;31m         \u001b[0mself\u001b[0m\u001b[0;34m.\u001b[0m\u001b[0m_draw_frame\u001b[0m\u001b[0;34m(\u001b[0m\u001b[0mframedata\u001b[0m\u001b[0;34m)\u001b[0m\u001b[0;34m\u001b[0m\u001b[0;34m\u001b[0m\u001b[0m\n\u001b[0m\u001b[1;32m   1189\u001b[0m         \u001b[0mself\u001b[0m\u001b[0;34m.\u001b[0m\u001b[0m_post_draw\u001b[0m\u001b[0;34m(\u001b[0m\u001b[0mframedata\u001b[0m\u001b[0;34m,\u001b[0m \u001b[0mblit\u001b[0m\u001b[0;34m)\u001b[0m\u001b[0;34m\u001b[0m\u001b[0;34m\u001b[0m\u001b[0m\n\u001b[1;32m   1190\u001b[0m \u001b[0;34m\u001b[0m\u001b[0m\n",
      "\u001b[0;32m~/anaconda3/lib/python3.8/site-packages/matplotlib/animation.py\u001b[0m in \u001b[0;36m_draw_frame\u001b[0;34m(self, framedata)\u001b[0m\n\u001b[1;32m   1764\u001b[0m         \u001b[0;31m# Call the func with framedata and args. If blitting is desired,\u001b[0m\u001b[0;34m\u001b[0m\u001b[0;34m\u001b[0m\u001b[0;34m\u001b[0m\u001b[0m\n\u001b[1;32m   1765\u001b[0m         \u001b[0;31m# func needs to return a sequence of any artists that were modified.\u001b[0m\u001b[0;34m\u001b[0m\u001b[0;34m\u001b[0m\u001b[0;34m\u001b[0m\u001b[0m\n\u001b[0;32m-> 1766\u001b[0;31m         \u001b[0mself\u001b[0m\u001b[0;34m.\u001b[0m\u001b[0m_drawn_artists\u001b[0m \u001b[0;34m=\u001b[0m \u001b[0mself\u001b[0m\u001b[0;34m.\u001b[0m\u001b[0m_func\u001b[0m\u001b[0;34m(\u001b[0m\u001b[0mframedata\u001b[0m\u001b[0;34m,\u001b[0m \u001b[0;34m*\u001b[0m\u001b[0mself\u001b[0m\u001b[0;34m.\u001b[0m\u001b[0m_args\u001b[0m\u001b[0;34m)\u001b[0m\u001b[0;34m\u001b[0m\u001b[0;34m\u001b[0m\u001b[0m\n\u001b[0m\u001b[1;32m   1767\u001b[0m         \u001b[0;32mif\u001b[0m \u001b[0mself\u001b[0m\u001b[0;34m.\u001b[0m\u001b[0m_blit\u001b[0m\u001b[0;34m:\u001b[0m\u001b[0;34m\u001b[0m\u001b[0;34m\u001b[0m\u001b[0m\n\u001b[1;32m   1768\u001b[0m             \u001b[0;32mif\u001b[0m \u001b[0mself\u001b[0m\u001b[0;34m.\u001b[0m\u001b[0m_drawn_artists\u001b[0m \u001b[0;32mis\u001b[0m \u001b[0;32mNone\u001b[0m\u001b[0;34m:\u001b[0m\u001b[0;34m\u001b[0m\u001b[0;34m\u001b[0m\u001b[0m\n",
      "\u001b[0;32m<ipython-input-18-0332e80b1e1f>\u001b[0m in \u001b[0;36mupdate\u001b[0;34m(*args)\u001b[0m\n\u001b[1;32m     26\u001b[0m     \u001b[0;32mglobal\u001b[0m \u001b[0mframe\u001b[0m\u001b[0;34m\u001b[0m\u001b[0;34m\u001b[0m\u001b[0m\n\u001b[1;32m     27\u001b[0m     \u001b[0mplt\u001b[0m\u001b[0;34m.\u001b[0m\u001b[0msuptitle\u001b[0m\u001b[0;34m(\u001b[0m\u001b[0;34m\"slice: \"\u001b[0m\u001b[0;34m+\u001b[0m\u001b[0mstr\u001b[0m\u001b[0;34m(\u001b[0m\u001b[0mround\u001b[0m\u001b[0;34m(\u001b[0m\u001b[0mframe\u001b[0m\u001b[0;34m*\u001b[0m\u001b[0;36m0.1\u001b[0m\u001b[0;34m-\u001b[0m\u001b[0;36m4.5\u001b[0m\u001b[0;34m,\u001b[0m\u001b[0;36m1\u001b[0m\u001b[0;34m)\u001b[0m\u001b[0;34m)\u001b[0m\u001b[0;34m)\u001b[0m\u001b[0;34m\u001b[0m\u001b[0;34m\u001b[0m\u001b[0m\n\u001b[0;32m---> 28\u001b[0;31m     \u001b[0mim1\u001b[0m\u001b[0;34m.\u001b[0m\u001b[0mset_array\u001b[0m\u001b[0;34m(\u001b[0m\u001b[0mimgs\u001b[0m\u001b[0;34m[\u001b[0m\u001b[0mframe\u001b[0m\u001b[0;34m]\u001b[0m\u001b[0;34m)\u001b[0m\u001b[0;34m\u001b[0m\u001b[0;34m\u001b[0m\u001b[0m\n\u001b[0m\u001b[1;32m     29\u001b[0m     \u001b[0mim2\u001b[0m\u001b[0;34m.\u001b[0m\u001b[0mset_array\u001b[0m\u001b[0;34m(\u001b[0m\u001b[0mimgs2\u001b[0m\u001b[0;34m[\u001b[0m\u001b[0mframe\u001b[0m\u001b[0;34m]\u001b[0m\u001b[0;34m)\u001b[0m\u001b[0;34m\u001b[0m\u001b[0;34m\u001b[0m\u001b[0m\n\u001b[1;32m     30\u001b[0m \u001b[0;34m\u001b[0m\u001b[0m\n",
      "\u001b[0;31mIndexError\u001b[0m: list index out of range"
     ]
    }
   ],
   "source": [
    "import numpy as np\n",
    "import matplotlib.pyplot as plt\n",
    "import matplotlib.animation as animation\n",
    "\n",
    "fig = plt.figure(figsize=(4, 4))\n",
    "\n",
    "frame = 0\n",
    "vmax = np.max(imgs)\n",
    "vmin = np.min(imgs)\n",
    "ax1 = plt.subplot(1,2,1)\n",
    "im1 = ax1.imshow(imgs[0], vmin=vmin, vmax=vmax)\n",
    "ax1.set_title(\"Uni\")\n",
    "\n",
    "vmax = np.max(imgs2)\n",
    "vmin = np.min(imgs2)\n",
    "ax2 = plt.subplot(1,2,2)\n",
    "im2 = ax2.imshow(imgs2[0], vmin=vmin, vmax=vmax)\n",
    "ax2.set_title(\"Bi\")\n",
    "\n",
    "plt.suptitle(\"slice: \"+str(round(frame*0.1-4.5,1)))\n",
    "\n",
    "#plt.colorbar(shrink=0.5)\n",
    "plt.title('0')\n",
    "\n",
    "def update(*args):\n",
    "    global frame\n",
    "    plt.suptitle(\"slice: \"+str(round(frame*0.1-4.5,1)))\n",
    "    im1.set_array(imgs[frame])\n",
    "    im2.set_array(imgs2[frame])\n",
    "\n",
    "    ax2.set_title(\"Bi\")\n",
    "    frame += 1\n",
    "    #frame %= len(a)\n",
    "\n",
    "    return im1,im2\n",
    "\n",
    "ani = animation.FuncAnimation(fig, update, frames=45, interval=100, blit=True)\n",
    "\n",
    "#ani = animation.ArtistAnimation(fig, img, interval=20, blit=True, repeat_delay=0)\n",
    "\n",
    "ani.save('/home/cat/OKR_both.avi', writer=\"ffmpeg\")\n",
    "\n",
    "print(time.clock())\n",
    "plt.show()\n"
   ]
  },
  {
   "cell_type": "code",
   "execution_count": null,
   "metadata": {},
   "outputs": [],
   "source": []
  },
  {
   "cell_type": "code",
   "execution_count": null,
   "metadata": {},
   "outputs": [],
   "source": []
  },
  {
   "cell_type": "code",
   "execution_count": 90,
   "metadata": {},
   "outputs": [
    {
     "name": "stdout",
     "output_type": "stream",
     "text": [
      "(8, 61, 934)\n"
     ]
    }
   ],
   "source": [
    "geom = np.loadtxt('/home/cat/Downloads/geom(2).txt')\n",
    "templates = np.load('/home/cat/Downloads/templates.npy')\n",
    "templates = np.load('/home/cat/Downloads/cluster_result_432/templates.npy')\n",
    "print (templates.shape)\n",
    "\n"
   ]
  },
  {
   "cell_type": "code",
   "execution_count": 113,
   "metadata": {},
   "outputs": [
    {
     "name": "stdout",
     "output_type": "stream",
     "text": [
      "(20000, 934)\n"
     ]
    }
   ],
   "source": [
    "from scipy.signal import freqz\n",
    "\n",
    "data_int16 = np.fromfile('/media/cat/4TBSSD/felix/data_int16.bin','int16',20000*934*1)\n",
    "#data_int16 = np.fromfile('/media/cat/4TBSSD/felix/data.bin','uint16',20000*934*1)\n",
    "#data_int16 = np.fromfile('/home/cat/Downloads/mea_20190502_140013.raw.all.redone.2sec.bin','int16')\n",
    "#data_int16 = np.fromfile('/home/cat/Downloads/mea_20190502_140013.raw.all.2sec.bin','int16')\n",
    "data2d = np.int16(data_int16).reshape(-1,934)\n",
    "print (data2d.shape)\n",
    "    \n",
    "lowcut=300\n",
    "highcut=5000\n",
    "fs = 20000\n",
    "for k in range(data2d.shape[1]):\n",
    "    filtered = butter_bandpass_filter(data2d[:,k],lowcut,highcut,fs)  \n",
    "    data2d[:,k] = filtered"
   ]
  },
  {
   "cell_type": "code",
   "execution_count": 123,
   "metadata": {},
   "outputs": [
    {
     "name": "stdout",
     "output_type": "stream",
     "text": [
      "(816, 161, 934)\n"
     ]
    }
   ],
   "source": [
    "templates_old = np.load('/media/cat/4TBSSD/felix/tmp/nn_train/augment/templates/templates.npy')\n",
    "print (templates_old.shape)"
   ]
  },
  {
   "cell_type": "code",
   "execution_count": 127,
   "metadata": {
    "scrolled": true
   },
   "outputs": [
    {
     "name": "stdout",
     "output_type": "stream",
     "text": [
      "larger templates;  (14, 161, 934)\n"
     ]
    }
   ],
   "source": [
    "ptps = templates_old.ptp(1).max(1)\n",
    "idx = np.where(ptps>16.0)[0]\n",
    "templates=templates_old[idx]\n",
    "print (\"larger templates; \", templates.shape)\n",
    "unit = 10\n",
    "\n",
    "\n",
    "#for k in range(geom.shape[0]):\n",
    "#print (channel_ids)\n",
    "idx = np.argsort(channel_ids)\n",
    "width = 200\n",
    "offset = 6000-50\n",
    "yscale = 1\n",
    "\n",
    "width = templates.shape[1]\n",
    "\n",
    "for k in np.arange(templates.shape[2]):    \n",
    "    plt.plot(geom[k,0]+np.arange(width)/(width/5), \n",
    "             templates[unit,:,k]/yscale+geom[k,1],c='black')\n",
    "             #data2d[offset:offset+width,k]/yscale+geom[k,1],c='black')\n",
    "plt.show()"
   ]
  },
  {
   "cell_type": "code",
   "execution_count": 7,
   "metadata": {},
   "outputs": [
    {
     "name": "stdout",
     "output_type": "stream",
     "text": [
      "Chip version: 20170126\n"
     ]
    }
   ],
   "source": [
    "from pathlib import Path\n",
    "\n",
    "path = Path('/media/cat/4TBSSD/felix')\n",
    "\n",
    "rec_paths = sorted([p for p in path.iterdir() if p.suffix == '.h5'])\n",
    "\n",
    "recompute = True\n",
    "recordings = []\n",
    "for i, rec in enumerate(rec_paths):\n",
    "    recording = se.Mea1kRecordingExtractor(rec)\n",
    "    if i == 0:\n",
    "        channel_order = recording.get_channel_ids()\n",
    "        recording_sorted = recording\n",
    "    else:\n",
    "        recording_sorted = se.SubRecordingExtractor(recording, channel_ids=channel_order)\n",
    "    recordings.append(recording_sorted)\n",
    "\n",
    "multirec = se.MultiRecordingTimeExtractor(recordings)\n",
    "\n",
    "multirec.write_to_binary_dat_format('/home/cat/recording.dat')"
   ]
  },
  {
   "cell_type": "code",
   "execution_count": null,
   "metadata": {},
   "outputs": [],
   "source": [
    "def get_traces(self, channel_ids=None, start_frame=None, end_frame=None):\n",
    "    if np.array(channel_ids).size > 1:\n",
    "        if np.any(np.diff(channel_ids) < 0):\n",
    "            sorted_idx = np.argsort(channel_ids)\n",
    "            recordings = self._signals[np.sort(channel_ids), start_frame:end_frame]\n",
    "            return recordings[sorted_idx].astype('float')\n",
    "        else:\n",
    "            return (self._signals[np.array(channel_ids), start_frame:end_frame] * self._lsb).astype('float32')\n",
    "    else:\n",
    "        return (self._signals[np.array(channel_ids), start_frame:end_frame] * self._lsb).astype('float32')\n",
    "\n"
   ]
  },
  {
   "cell_type": "code",
   "execution_count": null,
   "metadata": {},
   "outputs": [],
   "source": []
  },
  {
   "cell_type": "code",
   "execution_count": null,
   "metadata": {},
   "outputs": [],
   "source": []
  },
  {
   "cell_type": "code",
   "execution_count": null,
   "metadata": {},
   "outputs": [],
   "source": []
  },
  {
   "cell_type": "code",
   "execution_count": null,
   "metadata": {},
   "outputs": [],
   "source": []
  }
 ],
 "metadata": {
  "kernelspec": {
   "display_name": "Python 3",
   "language": "python",
   "name": "python3"
  },
  "language_info": {
   "codemirror_mode": {
    "name": "ipython",
    "version": 3
   },
   "file_extension": ".py",
   "mimetype": "text/x-python",
   "name": "python",
   "nbconvert_exporter": "python",
   "pygments_lexer": "ipython3",
   "version": "3.8.3"
  }
 },
 "nbformat": 4,
 "nbformat_minor": 4
}
