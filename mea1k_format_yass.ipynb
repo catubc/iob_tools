{
 "cells": [
  {
   "cell_type": "markdown",
   "metadata": {},
   "source": [
    "0. Download and install modules from : https://github.com/SpikeInterface"
   ]
  },
  {
   "cell_type": "code",
   "execution_count": 1,
   "metadata": {},
   "outputs": [
    {
     "data": {
      "application/javascript": [
       "IPython.notebook.set_autosave_interval(180000)"
      ]
     },
     "metadata": {},
     "output_type": "display_data"
    },
    {
     "name": "stdout",
     "output_type": "stream",
     "text": [
      "Autosaving every 180 seconds\n"
     ]
    },
    {
     "data": {
      "text/html": [
       "<style>.container { width:100% !important; }</style>"
      ],
      "text/plain": [
       "<IPython.core.display.HTML object>"
      ]
     },
     "metadata": {},
     "output_type": "display_data"
    }
   ],
   "source": [
    "%matplotlib tk\n",
    "import matplotlib\n",
    "%autosave 180\n",
    "import matplotlib.pyplot as plt\n",
    "from IPython.core.display import display, HTML\n",
    "display(HTML(\"<style>.container { width:100% !important; }</style>\"))\n",
    "from matplotlib.widgets import Slider, Button, RadioButtons\n",
    "import matplotlib.gridspec as gridspec\n",
    "\n",
    "\n",
    "import matplotlib.cm as cm\n",
    "\n",
    "import numpy as np\n",
    "import os\n",
    "\n",
    "import h5py\n",
    "\n"
   ]
  },
  {
   "cell_type": "code",
   "execution_count": 2,
   "metadata": {},
   "outputs": [],
   "source": [
    "import spikeextractors as se\n",
    "import spikesorters as ss\n",
    "import spikecomparison as sc\n",
    "import spikewidgets as sw\n",
    "import spikeinterface.toolkit as st\n",
    "\n",
    "import numpy as np\n",
    "import matplotlib.pylab as plt\n",
    "import scipy.signal"
   ]
  },
  {
   "cell_type": "code",
   "execution_count": 3,
   "metadata": {},
   "outputs": [
    {
     "name": "stdout",
     "output_type": "stream",
     "text": [
      "rec:  /mnt/adfe6e7b-b77b-4731-bc9e-e639667faba4/felix/h5_files/mea_20190502_141044.raw.h5\n",
      "Chip version: 20170126\n"
     ]
    }
   ],
   "source": [
    "\n",
    "from pathlib import Path\n",
    "\n",
    "path = Path('/mnt/adfe6e7b-b77b-4731-bc9e-e639667faba4/felix/h5_files/')\n",
    "\n",
    "rec_paths = sorted([p for p in path.iterdir() if p.suffix == '.h5'])\n",
    "\n",
    "recompute = True\n",
    "recordings = []\n",
    "for i, rec in enumerate(rec_paths):\n",
    "    print (\"rec: \", rec)\n",
    "    recording = se.Mea1kRecordingExtractor(rec)\n",
    "    if i == 0:\n",
    "        channel_order = recording.get_channel_ids()\n",
    "        recording_sorted = recording\n",
    "    else:\n",
    "        recording_sorted = se.SubRecordingExtractor(recording, channel_ids=channel_order)\n",
    "    recordings.append(recording_sorted)\n",
    "\n",
    "    multirec = se.MultiRecordingTimeExtractor(recordings)\n",
    "    multirec.write_to_binary_dat_format('/mnt/adfe6e7b-b77b-4731-bc9e-e639667faba4/felix/h5_files/recording.dat')\n",
    "\n",
    "    break\n",
    "    \n",
    "#and then I proceed with wpike sorting multirec"
   ]
  },
  {
   "cell_type": "code",
   "execution_count": 8,
   "metadata": {},
   "outputs": [
    {
     "name": "stdout",
     "output_type": "stream",
     "text": [
      "(186800000,)\n",
      "(200000, 934)\n"
     ]
    }
   ],
   "source": [
    "data_ = np.fromfile('/mnt/adfe6e7b-b77b-4731-bc9e-e639667faba4/felix/h5_files/recording.dat','float64',20000*934*10)\n",
    "print (data_.shape)\n",
    "data2d = data_.reshape(-1,934)\n",
    "print (data2d.shape)"
   ]
  },
  {
   "cell_type": "code",
   "execution_count": 3,
   "metadata": {},
   "outputs": [],
   "source": [
    "from scipy.signal import butter, lfilter\n",
    "\n",
    "\n",
    "def butter_bandpass(lowcut, highcut, fs, order=5):\n",
    "    nyq = 0.5 * fs\n",
    "    low = lowcut / nyq\n",
    "    high = highcut / nyq\n",
    "    b, a = butter(order, [low, high], btype='band')\n",
    "    return b, a\n",
    "\n",
    "\n",
    "def butter_bandpass_filter(data, lowcut, highcut, fs, order=5):\n",
    "    b, a = butter_bandpass(lowcut, highcut, fs, order=order)\n",
    "    y = lfilter(b, a, data)\n",
    "    return y\n"
   ]
  },
  {
   "cell_type": "code",
   "execution_count": 15,
   "metadata": {},
   "outputs": [
    {
     "name": "stdout",
     "output_type": "stream",
     "text": [
      "(20000, 934)\n"
     ]
    }
   ],
   "source": [
    "from scipy.signal import freqz\n",
    "\n",
    "geom = np.loadtxt('/mnt/adfe6e7b-b77b-4731-bc9e-e639667faba4/felix/geom.txt')\n",
    "\n",
    "data_int16 = np.fromfile('/mnt/adfe6e7b-b77b-4731-bc9e-e639667faba4/felix/data/mea_20190502_140013.raw.bin',\n",
    "                         'int16',20000*934*1)\n",
    "#data_int16 = np.fromfile('/media/cat/4TBSSD/felix/data.bin','uint16',20000*934*1)\n",
    "#data_int16 = np.fromfile('/home/cat/Downloads/mea_20190502_140013.raw.all.redone.2sec.bin','int16')\n",
    "#data_int16 = np.fromfile('/home/cat/Downloads/mea_20190502_140013.raw.all.2sec.bin','int16')\n",
    "data2d = np.int16(data_int16).reshape(-1,934)\n",
    "print (data2d.shape)\n",
    "    \n",
    "lowcut=300\n",
    "highcut=5000\n",
    "fs = 20000\n",
    "for k in range(data2d.shape[1]):\n",
    "    filtered = butter_bandpass_filter(data2d[:,k],lowcut,highcut,fs)  \n",
    "    data2d[:,k] = filtered\n",
    "    \n",
    "data2d.tofile('/mnt/adfe6e7b-b77b-4731-bc9e-e639667faba4/felix/data/mea_20190502_140013.raw.1sec.bin')"
   ]
  },
  {
   "cell_type": "code",
   "execution_count": 7,
   "metadata": {},
   "outputs": [
    {
     "name": "stdout",
     "output_type": "stream",
     "text": [
      "(175, 161, 934)\n"
     ]
    }
   ],
   "source": [
    "templates = np.load('/mnt/adfe6e7b-b77b-4731-bc9e-e639667faba4/felix/tmp/nn_train/augment/templates/templates.npy')\n",
    "print (templates.shape)\n",
    "geom = np.loadtxt('/mnt/adfe6e7b-b77b-4731-bc9e-e639667faba4/felix/geom.txt')"
   ]
  },
  {
   "cell_type": "code",
   "execution_count": 14,
   "metadata": {},
   "outputs": [
    {
     "name": "stdout",
     "output_type": "stream",
     "text": [
      "larger templates;  (21, 161, 934)\n"
     ]
    }
   ],
   "source": [
    "import matplotlib.pyplot as plt\n",
    "ptps = templates.ptp(1).max(1)\n",
    "idx = np.where(ptps>16.0)[0]\n",
    "templates=templates[idx]\n",
    "print (\"larger templates; \", templates.shape)\n",
    "unit = 0\n",
    "\n",
    "#for k in range(geom.shape[0]):\n",
    "#print (channel_ids)\n",
    "#idx = np.argsort(channel_ids)\n",
    "width = templates.shape[1]\n",
    "offset = 5000-50\n",
    "yscale = 1\n",
    "\n",
    "#width = templates.shape[1]\n",
    "for k in np.arange(templates.shape[2]):    \n",
    "    plt.plot(geom[k,0]+np.arange(width)/(width/5), \n",
    "             #templates[unit,:,k]/yscale+geom[k,1],c='black')\n",
    "             data2d[offset:offset+width,k]/yscale+geom[k,1],c='black')\n",
    "plt.show()"
   ]
  },
  {
   "cell_type": "code",
   "execution_count": 11,
   "metadata": {},
   "outputs": [],
   "source": [
    "for k in range(100):\n",
    "    plt.plot(data2d[:5000,k]+k*10, c='black')\n",
    "plt.show()"
   ]
  },
  {
   "cell_type": "code",
   "execution_count": 13,
   "metadata": {
    "collapsed": true
   },
   "outputs": [
    {
     "ename": "MemoryError",
     "evalue": "Unable to allocate 125. GiB for an array with shape (934, 17908200) and data type float64",
     "output_type": "error",
     "traceback": [
      "\u001b[0;31m---------------------------------------------------------------------------\u001b[0m",
      "\u001b[0;31mMemoryError\u001b[0m                               Traceback (most recent call last)",
      "\u001b[0;32m<ipython-input-13-1d0b30f575f8>\u001b[0m in \u001b[0;36m<module>\u001b[0;34m\u001b[0m\n\u001b[0;32m----> 1\u001b[0;31m \u001b[0mdata\u001b[0m \u001b[0;34m=\u001b[0m \u001b[0mmultirec\u001b[0m\u001b[0;34m.\u001b[0m\u001b[0mget_traces\u001b[0m\u001b[0;34m(\u001b[0m\u001b[0;34m)\u001b[0m\u001b[0;34m\u001b[0m\u001b[0;34m\u001b[0m\u001b[0m\n\u001b[0m",
      "\u001b[0;32m~/anaconda3/envs/spikingforest/lib/python3.7/site-packages/spikeextractors/extraction_tools.py\u001b[0m in \u001b[0;36mcorrected_args\u001b[0;34m(*args, **kwargs)\u001b[0m\n\u001b[1;32m    772\u001b[0m \u001b[0;34m\u001b[0m\u001b[0m\n\u001b[1;32m    773\u001b[0m         \u001b[0;31m# pass recording as arg and rest as kwargs\u001b[0m\u001b[0;34m\u001b[0m\u001b[0;34m\u001b[0m\u001b[0;34m\u001b[0m\u001b[0m\n\u001b[0;32m--> 774\u001b[0;31m         \u001b[0mget_traces_correct_arg\u001b[0m \u001b[0;34m=\u001b[0m \u001b[0mfunc\u001b[0m\u001b[0;34m(\u001b[0m\u001b[0margs\u001b[0m\u001b[0;34m[\u001b[0m\u001b[0;36m0\u001b[0m\u001b[0;34m]\u001b[0m\u001b[0;34m,\u001b[0m \u001b[0;34m**\u001b[0m\u001b[0mkwargs\u001b[0m\u001b[0;34m)\u001b[0m\u001b[0;34m\u001b[0m\u001b[0;34m\u001b[0m\u001b[0m\n\u001b[0m\u001b[1;32m    775\u001b[0m \u001b[0;34m\u001b[0m\u001b[0m\n\u001b[1;32m    776\u001b[0m         \u001b[0;32mreturn\u001b[0m \u001b[0mget_traces_correct_arg\u001b[0m\u001b[0;34m\u001b[0m\u001b[0;34m\u001b[0m\u001b[0m\n",
      "\u001b[0;32m~/anaconda3/envs/spikingforest/lib/python3.7/site-packages/spikeextractors/multirecordingtimeextractor.py\u001b[0m in \u001b[0;36mget_traces\u001b[0;34m(self, channel_ids, start_frame, end_frame)\u001b[0m\n\u001b[1;32m     81\u001b[0m         \u001b[0;32mfor\u001b[0m \u001b[0mi_sec\u001b[0m \u001b[0;32min\u001b[0m \u001b[0mrange\u001b[0m\u001b[0;34m(\u001b[0m\u001b[0mi_sec1\u001b[0m \u001b[0;34m+\u001b[0m \u001b[0;36m1\u001b[0m\u001b[0;34m,\u001b[0m \u001b[0mi_sec2\u001b[0m\u001b[0;34m)\u001b[0m\u001b[0;34m:\u001b[0m\u001b[0;34m\u001b[0m\u001b[0;34m\u001b[0m\u001b[0m\n\u001b[1;32m     82\u001b[0m             traces.append(\n\u001b[0;32m---> 83\u001b[0;31m                 \u001b[0mself\u001b[0m\u001b[0;34m.\u001b[0m\u001b[0m_recordings\u001b[0m\u001b[0;34m[\u001b[0m\u001b[0mi_sec\u001b[0m\u001b[0;34m]\u001b[0m\u001b[0;34m.\u001b[0m\u001b[0mget_traces\u001b[0m\u001b[0;34m(\u001b[0m\u001b[0mchannel_ids\u001b[0m\u001b[0;34m=\u001b[0m\u001b[0mchannel_ids\u001b[0m\u001b[0;34m)\u001b[0m\u001b[0;34m\u001b[0m\u001b[0;34m\u001b[0m\u001b[0m\n\u001b[0m\u001b[1;32m     84\u001b[0m             )\n\u001b[1;32m     85\u001b[0m         traces.append(\n",
      "\u001b[0;32m~/anaconda3/envs/spikingforest/lib/python3.7/site-packages/spikeextractors/extraction_tools.py\u001b[0m in \u001b[0;36mcorrected_args\u001b[0;34m(*args, **kwargs)\u001b[0m\n\u001b[1;32m    772\u001b[0m \u001b[0;34m\u001b[0m\u001b[0m\n\u001b[1;32m    773\u001b[0m         \u001b[0;31m# pass recording as arg and rest as kwargs\u001b[0m\u001b[0;34m\u001b[0m\u001b[0;34m\u001b[0m\u001b[0;34m\u001b[0m\u001b[0m\n\u001b[0;32m--> 774\u001b[0;31m         \u001b[0mget_traces_correct_arg\u001b[0m \u001b[0;34m=\u001b[0m \u001b[0mfunc\u001b[0m\u001b[0;34m(\u001b[0m\u001b[0margs\u001b[0m\u001b[0;34m[\u001b[0m\u001b[0;36m0\u001b[0m\u001b[0;34m]\u001b[0m\u001b[0;34m,\u001b[0m \u001b[0;34m**\u001b[0m\u001b[0mkwargs\u001b[0m\u001b[0;34m)\u001b[0m\u001b[0;34m\u001b[0m\u001b[0;34m\u001b[0m\u001b[0m\n\u001b[0m\u001b[1;32m    775\u001b[0m \u001b[0;34m\u001b[0m\u001b[0m\n\u001b[1;32m    776\u001b[0m         \u001b[0;32mreturn\u001b[0m \u001b[0mget_traces_correct_arg\u001b[0m\u001b[0;34m\u001b[0m\u001b[0;34m\u001b[0m\u001b[0m\n",
      "\u001b[0;32m~/anaconda3/envs/spikingforest/lib/python3.7/site-packages/spikeextractors/subrecordingextractor.py\u001b[0m in \u001b[0;36mget_traces\u001b[0;34m(self, channel_ids, start_frame, end_frame)\u001b[0m\n\u001b[1;32m     40\u001b[0m         \u001b[0mef\u001b[0m \u001b[0;34m=\u001b[0m \u001b[0mself\u001b[0m\u001b[0;34m.\u001b[0m\u001b[0m_start_frame\u001b[0m \u001b[0;34m+\u001b[0m \u001b[0mend_frame\u001b[0m\u001b[0;34m\u001b[0m\u001b[0;34m\u001b[0m\u001b[0m\n\u001b[1;32m     41\u001b[0m         \u001b[0moriginal_ch_ids\u001b[0m \u001b[0;34m=\u001b[0m \u001b[0mself\u001b[0m\u001b[0;34m.\u001b[0m\u001b[0mget_original_channel_ids\u001b[0m\u001b[0;34m(\u001b[0m\u001b[0mchannel_ids\u001b[0m\u001b[0;34m)\u001b[0m\u001b[0;34m\u001b[0m\u001b[0;34m\u001b[0m\u001b[0m\n\u001b[0;32m---> 42\u001b[0;31m         \u001b[0;32mreturn\u001b[0m \u001b[0mself\u001b[0m\u001b[0;34m.\u001b[0m\u001b[0m_parent_recording\u001b[0m\u001b[0;34m.\u001b[0m\u001b[0mget_traces\u001b[0m\u001b[0;34m(\u001b[0m\u001b[0mchannel_ids\u001b[0m\u001b[0;34m=\u001b[0m\u001b[0moriginal_ch_ids\u001b[0m\u001b[0;34m,\u001b[0m \u001b[0mstart_frame\u001b[0m\u001b[0;34m=\u001b[0m\u001b[0msf\u001b[0m\u001b[0;34m,\u001b[0m \u001b[0mend_frame\u001b[0m\u001b[0;34m=\u001b[0m\u001b[0mef\u001b[0m\u001b[0;34m)\u001b[0m\u001b[0;34m\u001b[0m\u001b[0;34m\u001b[0m\u001b[0m\n\u001b[0m\u001b[1;32m     43\u001b[0m \u001b[0;34m\u001b[0m\u001b[0m\n\u001b[1;32m     44\u001b[0m     \u001b[0;32mdef\u001b[0m \u001b[0mget_channel_ids\u001b[0m\u001b[0;34m(\u001b[0m\u001b[0mself\u001b[0m\u001b[0;34m)\u001b[0m\u001b[0;34m:\u001b[0m\u001b[0;34m\u001b[0m\u001b[0;34m\u001b[0m\u001b[0m\n",
      "\u001b[0;32m~/anaconda3/envs/spikingforest/lib/python3.7/site-packages/spikeextractors/extraction_tools.py\u001b[0m in \u001b[0;36mcorrected_args\u001b[0;34m(*args, **kwargs)\u001b[0m\n\u001b[1;32m    772\u001b[0m \u001b[0;34m\u001b[0m\u001b[0m\n\u001b[1;32m    773\u001b[0m         \u001b[0;31m# pass recording as arg and rest as kwargs\u001b[0m\u001b[0;34m\u001b[0m\u001b[0;34m\u001b[0m\u001b[0;34m\u001b[0m\u001b[0m\n\u001b[0;32m--> 774\u001b[0;31m         \u001b[0mget_traces_correct_arg\u001b[0m \u001b[0;34m=\u001b[0m \u001b[0mfunc\u001b[0m\u001b[0;34m(\u001b[0m\u001b[0margs\u001b[0m\u001b[0;34m[\u001b[0m\u001b[0;36m0\u001b[0m\u001b[0;34m]\u001b[0m\u001b[0;34m,\u001b[0m \u001b[0;34m**\u001b[0m\u001b[0mkwargs\u001b[0m\u001b[0;34m)\u001b[0m\u001b[0;34m\u001b[0m\u001b[0;34m\u001b[0m\u001b[0m\n\u001b[0m\u001b[1;32m    775\u001b[0m \u001b[0;34m\u001b[0m\u001b[0m\n\u001b[1;32m    776\u001b[0m         \u001b[0;32mreturn\u001b[0m \u001b[0mget_traces_correct_arg\u001b[0m\u001b[0;34m\u001b[0m\u001b[0;34m\u001b[0m\u001b[0m\n",
      "\u001b[0;32m~/anaconda3/envs/spikingforest/lib/python3.7/site-packages/spikeextractors/extractors/mea1krecordingextractor/mea1krecordingextractor.py\u001b[0m in \u001b[0;36mget_traces\u001b[0;34m(self, channel_ids, start_frame, end_frame)\u001b[0m\n\u001b[1;32m     97\u001b[0m                 \u001b[0msorted_idx\u001b[0m \u001b[0;34m=\u001b[0m \u001b[0mnp\u001b[0m\u001b[0;34m.\u001b[0m\u001b[0margsort\u001b[0m\u001b[0;34m(\u001b[0m\u001b[0mchannel_ids\u001b[0m\u001b[0;34m)\u001b[0m\u001b[0;34m\u001b[0m\u001b[0;34m\u001b[0m\u001b[0m\n\u001b[1;32m     98\u001b[0m                 \u001b[0mrecordings\u001b[0m \u001b[0;34m=\u001b[0m \u001b[0mself\u001b[0m\u001b[0;34m.\u001b[0m\u001b[0m_signals\u001b[0m\u001b[0;34m[\u001b[0m\u001b[0mnp\u001b[0m\u001b[0;34m.\u001b[0m\u001b[0msort\u001b[0m\u001b[0;34m(\u001b[0m\u001b[0mchannel_ids\u001b[0m\u001b[0;34m)\u001b[0m\u001b[0;34m,\u001b[0m \u001b[0mstart_frame\u001b[0m\u001b[0;34m:\u001b[0m\u001b[0mend_frame\u001b[0m\u001b[0;34m]\u001b[0m\u001b[0;34m\u001b[0m\u001b[0;34m\u001b[0m\u001b[0m\n\u001b[0;32m---> 99\u001b[0;31m                 \u001b[0;32mreturn\u001b[0m \u001b[0mrecordings\u001b[0m\u001b[0;34m[\u001b[0m\u001b[0msorted_idx\u001b[0m\u001b[0;34m]\u001b[0m\u001b[0;34m.\u001b[0m\u001b[0mastype\u001b[0m\u001b[0;34m(\u001b[0m\u001b[0;34m'float'\u001b[0m\u001b[0;34m)\u001b[0m\u001b[0;34m\u001b[0m\u001b[0;34m\u001b[0m\u001b[0m\n\u001b[0m\u001b[1;32m    100\u001b[0m             \u001b[0;32melse\u001b[0m\u001b[0;34m:\u001b[0m\u001b[0;34m\u001b[0m\u001b[0;34m\u001b[0m\u001b[0m\n\u001b[1;32m    101\u001b[0m                 \u001b[0;32mreturn\u001b[0m \u001b[0;34m(\u001b[0m\u001b[0mself\u001b[0m\u001b[0;34m.\u001b[0m\u001b[0m_signals\u001b[0m\u001b[0;34m[\u001b[0m\u001b[0mnp\u001b[0m\u001b[0;34m.\u001b[0m\u001b[0marray\u001b[0m\u001b[0;34m(\u001b[0m\u001b[0mchannel_ids\u001b[0m\u001b[0;34m)\u001b[0m\u001b[0;34m,\u001b[0m \u001b[0mstart_frame\u001b[0m\u001b[0;34m:\u001b[0m\u001b[0mend_frame\u001b[0m\u001b[0;34m]\u001b[0m \u001b[0;34m*\u001b[0m \u001b[0mself\u001b[0m\u001b[0;34m.\u001b[0m\u001b[0m_lsb\u001b[0m\u001b[0;34m)\u001b[0m\u001b[0;34m.\u001b[0m\u001b[0mastype\u001b[0m\u001b[0;34m(\u001b[0m\u001b[0;34m'float32'\u001b[0m\u001b[0;34m)\u001b[0m\u001b[0;34m\u001b[0m\u001b[0;34m\u001b[0m\u001b[0m\n",
      "\u001b[0;31mMemoryError\u001b[0m: Unable to allocate 125. GiB for an array with shape (934, 17908200) and data type float64"
     ]
    }
   ],
   "source": [
    "data = multirec.get_traces()"
   ]
  },
  {
   "cell_type": "code",
   "execution_count": 3,
   "metadata": {},
   "outputs": [],
   "source": [
    "import numpy as np\n",
    "data = np.fromfile('/mnt/adfe6e7b-b77b-4731-bc9e-e639667faba4/felix/mea_20190502_140013.raw.all.bin',\n",
    "                  'int16',20000*934*2)\n",
    "data.tofile('/mnt/adfe6e7b-b77b-4731-bc9e-e639667faba4/felix/mea_20190502_140013.raw.all.2sec.bin')"
   ]
  },
  {
   "cell_type": "code",
   "execution_count": null,
   "metadata": {},
   "outputs": [],
   "source": [
    "data_int16 = np.int16(data)"
   ]
  },
  {
   "cell_type": "code",
   "execution_count": null,
   "metadata": {},
   "outputs": [],
   "source": [
    "np.save('/mnt/adfe6e7b-b77b-4731-bc9e-e639667faba4/felix/mea_20190502_140013.raw.all.redone.bin',data_int16)"
   ]
  },
  {
   "cell_type": "code",
   "execution_count": 12,
   "metadata": {},
   "outputs": [],
   "source": [
    "fnames = [\n",
    "'/mnt/adfe6e7b-b77b-4731-bc9e-e639667faba4/felix/h5_files/mea_20190502_140013.raw.h5',\n",
    "'/mnt/adfe6e7b-b77b-4731-bc9e-e639667faba4/felix/h5_files/mea_20190502_140614.raw.h5',\n",
    "'/mnt/adfe6e7b-b77b-4731-bc9e-e639667faba4/felix/h5_files/mea_20190502_141044.raw.h5',\n",
    "'/mnt/adfe6e7b-b77b-4731-bc9e-e639667faba4/felix/h5_files/mea_20190502_141546.raw.h5',\n",
    "'/mnt/adfe6e7b-b77b-4731-bc9e-e639667faba4/felix/h5_files/mea_20190502_143106.raw.h5',\n",
    "'/mnt/adfe6e7b-b77b-4731-bc9e-e639667faba4/felix/h5_files/mea_20190502_144649.raw.h5',\n",
    "'/mnt/adfe6e7b-b77b-4731-bc9e-e639667faba4/felix/h5_files/mea_20190502_145006.raw.h5',\n",
    "'/mnt/adfe6e7b-b77b-4731-bc9e-e639667faba4/felix/h5_files/mea_20190502_150529.raw.h5' \n",
    "    \n",
    "]\n",
    "\n",
    "\n"
   ]
  },
  {
   "cell_type": "code",
   "execution_count": 14,
   "metadata": {},
   "outputs": [
    {
     "name": "stdout",
     "output_type": "stream",
     "text": [
      "loading:  /mnt/adfe6e7b-b77b-4731-bc9e-e639667faba4/felix/h5_files/mea_20190502_140013.raw.h5\n",
      "recordings:  (934, 4589200)\n",
      "saving  (4589200, 934) <class 'numpy.int16'>\n",
      "loading:  /mnt/adfe6e7b-b77b-4731-bc9e-e639667faba4/felix/h5_files/mea_20190502_140614.raw.h5\n",
      "recordings:  (934, 5075800)\n",
      "saving  (5075800, 934) <class 'numpy.int16'>\n",
      "loading:  /mnt/adfe6e7b-b77b-4731-bc9e-e639667faba4/felix/h5_files/mea_20190502_141044.raw.h5\n",
      "recordings:  (934, 3135800)\n",
      "saving  (3135800, 934) <class 'numpy.int16'>\n",
      "loading:  /mnt/adfe6e7b-b77b-4731-bc9e-e639667faba4/felix/h5_files/mea_20190502_141546.raw.h5\n",
      "recordings:  (934, 17908200)\n",
      "saving  (17908200, 934) <class 'numpy.int16'>\n",
      "loading:  /mnt/adfe6e7b-b77b-4731-bc9e-e639667faba4/felix/h5_files/mea_20190502_143106.raw.h5\n",
      "recordings:  (934, 17907600)\n",
      "saving  (17907600, 934) <class 'numpy.int16'>\n",
      "loading:  /mnt/adfe6e7b-b77b-4731-bc9e-e639667faba4/felix/h5_files/mea_20190502_144649.raw.h5\n",
      "recordings:  (934, 3135800)\n",
      "saving  (3135800, 934) <class 'numpy.int16'>\n",
      "loading:  /mnt/adfe6e7b-b77b-4731-bc9e-e639667faba4/felix/h5_files/mea_20190502_145006.raw.h5\n",
      "recordings:  (934, 17909400)\n",
      "saving  (17909400, 934) <class 'numpy.int16'>\n",
      "loading:  /mnt/adfe6e7b-b77b-4731-bc9e-e639667faba4/felix/h5_files/mea_20190502_150529.raw.h5\n",
      "recordings:  (934, 17907800)\n",
      "saving  (17907800, 934) <class 'numpy.int16'>\n"
     ]
    }
   ],
   "source": [
    "# MAKE RAW BIN FILES\n",
    "for fname in fnames:\n",
    "    fname_out = fname[:-3]+'.bin'\n",
    "    if os.path.exists(fname_out)==False:\n",
    "        print (\"loading: \", fname)\n",
    "        f = h5py.File(fname, 'r')\n",
    "        mapping = f['ephys']['mapping']\n",
    "        #channel = mapping['channel']\n",
    "        channel_ids = mapping['channel']\n",
    "        sorted_idx = np.argsort(channel_ids)\n",
    "\n",
    "        # load raw traces\n",
    "        traces = f['ephys']['signal']\n",
    "        \n",
    "        # read non-zero traces\n",
    "        recordings = traces[np.sort(channel_ids)]\n",
    "        print (\"recordings: \", recordings.shape)\n",
    "\n",
    "        # sort traces based on geometry file:\n",
    "        recordings = recordings[sorted_idx]\n",
    "\n",
    "        data2 = np.int16(recordings).T\n",
    "        print (\"saving \", data2.shape, type(data2[0,0]))\n",
    "\n",
    "        data2.tofile(fname_out)\n",
    "\n"
   ]
  },
  {
   "cell_type": "code",
   "execution_count": 10,
   "metadata": {},
   "outputs": [
    {
     "name": "stdout",
     "output_type": "stream",
     "text": [
      "loading:  /media/cat/12TB/felix/data/mea_20190502_140013.raw.h5\n",
      "frame_numbers  (4589200,) <HDF5 dataset \"frame_numbers\": shape (4589200,), type \"<u8\">\n",
      "loading:  /media/cat/12TB/felix/data/mea_20190502_140614.raw.h5\n",
      "frame_numbers  (5075800,) <HDF5 dataset \"frame_numbers\": shape (5075800,), type \"<u8\">\n",
      "loading:  /media/cat/12TB/felix/data/mea_20190502_141044.raw.h5\n",
      "frame_numbers  (3135800,) <HDF5 dataset \"frame_numbers\": shape (3135800,), type \"<u8\">\n",
      "loading:  /media/cat/12TB/felix/data/mea_20190502_141546.raw.h5\n",
      "frame_numbers  (17908200,) <HDF5 dataset \"frame_numbers\": shape (17908200,), type \"<u8\">\n",
      "loading:  /media/cat/12TB/felix/data/mea_20190502_143106.raw.h5\n",
      "frame_numbers  (17907600,) <HDF5 dataset \"frame_numbers\": shape (17907600,), type \"<u8\">\n",
      "loading:  /media/cat/12TB/felix/data/mea_20190502_144649.raw.h5\n",
      "frame_numbers  (3135800,) <HDF5 dataset \"frame_numbers\": shape (3135800,), type \"<u8\">\n",
      "loading:  /media/cat/12TB/felix/data/mea_20190502_145006.raw.h5\n",
      "frame_numbers  (17909400,) <HDF5 dataset \"frame_numbers\": shape (17909400,), type \"<u8\">\n",
      "loading:  /media/cat/12TB/felix/data/mea_20190502_150529.raw.h5\n",
      "frame_numbers  (17907800,) <HDF5 dataset \"frame_numbers\": shape (17907800,), type \"<u8\">\n"
     ]
    }
   ],
   "source": [
    "# MAKE FRAME NUBERS\n",
    "for fname in fnames:\n",
    "    print (\"loading: \", fname)\n",
    "    f = h5py.File(fname, 'r')\n",
    "    #mapping = f['ephys']['mapping']\n",
    "    #channel = mapping['channel']\n",
    "\n",
    "    frame_numbers = f['ephys']['frame_numbers']\n",
    "    #data2 = np.int16(data)[channel].T\n",
    "    print (\"frame_numbers \", frame_numbers.shape, frame_numbers)\n",
    "\n",
    "    np.save(fname[:-3]+'_frame_numbers.npy', frame_numbers)\n",
    "    #data2.tofile(fname[:-3]+'.bin')\n",
    "print (\"DONE\")"
   ]
  },
  {
   "cell_type": "code",
   "execution_count": 18,
   "metadata": {},
   "outputs": [],
   "source": [
    "# COMBINE MULTIPLE .BIN FILES\n",
    "fnames = [\n",
    "'/mnt/adfe6e7b-b77b-4731-bc9e-e639667faba4/felix/data/mea_20190502_140013.raw.bin',\n",
    "'/mnt/adfe6e7b-b77b-4731-bc9e-e639667faba4/felix/data/mea_20190502_140614.raw.bin',\n",
    "'/mnt/adfe6e7b-b77b-4731-bc9e-e639667faba4/felix/data/mea_20190502_141044.raw.bin',\n",
    "'/mnt/adfe6e7b-b77b-4731-bc9e-e639667faba4/felix/data/mea_20190502_141546.raw.bin',\n",
    "'/mnt/adfe6e7b-b77b-4731-bc9e-e639667faba4/felix/data/mea_20190502_143106.raw.bin',\n",
    "'/mnt/adfe6e7b-b77b-4731-bc9e-e639667faba4/felix/data/mea_20190502_144649.raw.bin',\n",
    "'/mnt/adfe6e7b-b77b-4731-bc9e-e639667faba4/felix/data/mea_20190502_145006.raw.bin',\n",
    "'/mnt/adfe6e7b-b77b-4731-bc9e-e639667faba4/felix/data/mea_20190502_150529.raw.bin'    \n",
    "]\n"
   ]
  },
  {
   "cell_type": "code",
   "execution_count": 19,
   "metadata": {},
   "outputs": [
    {
     "name": "stdout",
     "output_type": "stream",
     "text": [
      "reading:  /mnt/adfe6e7b-b77b-4731-bc9e-e639667faba4/felix/data/mea_20190502_140013.raw.bin\n",
      "...writing\n",
      "reading:  /mnt/adfe6e7b-b77b-4731-bc9e-e639667faba4/felix/data/mea_20190502_140614.raw.bin\n",
      "...writing\n",
      "reading:  /mnt/adfe6e7b-b77b-4731-bc9e-e639667faba4/felix/data/mea_20190502_141044.raw.bin\n",
      "...writing\n",
      "reading:  /mnt/adfe6e7b-b77b-4731-bc9e-e639667faba4/felix/data/mea_20190502_141546.raw.bin\n",
      "...writing\n",
      "reading:  /mnt/adfe6e7b-b77b-4731-bc9e-e639667faba4/felix/data/mea_20190502_143106.raw.bin\n",
      "...writing\n",
      "reading:  /mnt/adfe6e7b-b77b-4731-bc9e-e639667faba4/felix/data/mea_20190502_144649.raw.bin\n",
      "...writing\n",
      "reading:  /mnt/adfe6e7b-b77b-4731-bc9e-e639667faba4/felix/data/mea_20190502_145006.raw.bin\n",
      "...writing\n",
      "reading:  /mnt/adfe6e7b-b77b-4731-bc9e-e639667faba4/felix/data/mea_20190502_150529.raw.bin\n",
      "...writing\n"
     ]
    }
   ],
   "source": [
    "# Append-adds at last \n",
    "import numpy as np\n",
    "file1 = open(\"/mnt/adfe6e7b-b77b-4731-bc9e-e639667faba4/felix/mea_20190502_140013.raw.all.redone.bin\", \"ab\")  # append mode \n",
    "\n",
    "for fname in fnames:\n",
    "    print (\"reading: \", fname)\n",
    "    data =np.fromfile(fname,'int16')\n",
    "    print (\"...writing\")\n",
    "    file1.write(data) \n",
    "file1.close() "
   ]
  },
  {
   "cell_type": "code",
   "execution_count": 20,
   "metadata": {},
   "outputs": [],
   "source": [
    "file1.close() "
   ]
  },
  {
   "cell_type": "code",
   "execution_count": 21,
   "metadata": {},
   "outputs": [],
   "source": [
    "data1 = np.fromfile('/mnt/adfe6e7b-b77b-4731-bc9e-e639667faba4/felix/mea_20190502_140013.raw.all.bin','int16',20000*934*10)\n",
    "data1_2D = data1.reshape(-1, 934)\n",
    "\n",
    "data2 = np.fromfile('/mnt/adfe6e7b-b77b-4731-bc9e-e639667faba4/felix/mea_20190502_140013.raw.all.redone.bin', 'int16', 20000*934*10)\n",
    "data2_2D = data2.reshape(-1,934)\n",
    "\n"
   ]
  },
  {
   "cell_type": "code",
   "execution_count": 24,
   "metadata": {},
   "outputs": [
    {
     "name": "stderr",
     "output_type": "stream",
     "text": [
      "/home/cat/anaconda3/envs/spikingforest/lib/python3.7/site-packages/ipykernel_launcher.py:2: MatplotlibDeprecationWarning: Adding an axes using the same arguments as a previous axes currently reuses the earlier instance.  In a future version, a new instance will always be created and returned.  Meanwhile, this warning can be suppressed, and the future behavior ensured, by passing a unique label to each axes instance.\n",
      "  \n",
      "/home/cat/anaconda3/envs/spikingforest/lib/python3.7/site-packages/ipykernel_launcher.py:4: MatplotlibDeprecationWarning: Adding an axes using the same arguments as a previous axes currently reuses the earlier instance.  In a future version, a new instance will always be created and returned.  Meanwhile, this warning can be suppressed, and the future behavior ensured, by passing a unique label to each axes instance.\n",
      "  after removing the cwd from sys.path.\n",
      "/home/cat/anaconda3/envs/spikingforest/lib/python3.7/site-packages/ipykernel_launcher.py:2: MatplotlibDeprecationWarning: Adding an axes using the same arguments as a previous axes currently reuses the earlier instance.  In a future version, a new instance will always be created and returned.  Meanwhile, this warning can be suppressed, and the future behavior ensured, by passing a unique label to each axes instance.\n",
      "  \n",
      "/home/cat/anaconda3/envs/spikingforest/lib/python3.7/site-packages/ipykernel_launcher.py:4: MatplotlibDeprecationWarning: Adding an axes using the same arguments as a previous axes currently reuses the earlier instance.  In a future version, a new instance will always be created and returned.  Meanwhile, this warning can be suppressed, and the future behavior ensured, by passing a unique label to each axes instance.\n",
      "  after removing the cwd from sys.path.\n",
      "/home/cat/anaconda3/envs/spikingforest/lib/python3.7/site-packages/ipykernel_launcher.py:2: MatplotlibDeprecationWarning: Adding an axes using the same arguments as a previous axes currently reuses the earlier instance.  In a future version, a new instance will always be created and returned.  Meanwhile, this warning can be suppressed, and the future behavior ensured, by passing a unique label to each axes instance.\n",
      "  \n",
      "/home/cat/anaconda3/envs/spikingforest/lib/python3.7/site-packages/ipykernel_launcher.py:4: MatplotlibDeprecationWarning: Adding an axes using the same arguments as a previous axes currently reuses the earlier instance.  In a future version, a new instance will always be created and returned.  Meanwhile, this warning can be suppressed, and the future behavior ensured, by passing a unique label to each axes instance.\n",
      "  after removing the cwd from sys.path.\n",
      "/home/cat/anaconda3/envs/spikingforest/lib/python3.7/site-packages/ipykernel_launcher.py:2: MatplotlibDeprecationWarning: Adding an axes using the same arguments as a previous axes currently reuses the earlier instance.  In a future version, a new instance will always be created and returned.  Meanwhile, this warning can be suppressed, and the future behavior ensured, by passing a unique label to each axes instance.\n",
      "  \n",
      "/home/cat/anaconda3/envs/spikingforest/lib/python3.7/site-packages/ipykernel_launcher.py:4: MatplotlibDeprecationWarning: Adding an axes using the same arguments as a previous axes currently reuses the earlier instance.  In a future version, a new instance will always be created and returned.  Meanwhile, this warning can be suppressed, and the future behavior ensured, by passing a unique label to each axes instance.\n",
      "  after removing the cwd from sys.path.\n",
      "/home/cat/anaconda3/envs/spikingforest/lib/python3.7/site-packages/ipykernel_launcher.py:2: MatplotlibDeprecationWarning: Adding an axes using the same arguments as a previous axes currently reuses the earlier instance.  In a future version, a new instance will always be created and returned.  Meanwhile, this warning can be suppressed, and the future behavior ensured, by passing a unique label to each axes instance.\n",
      "  \n",
      "/home/cat/anaconda3/envs/spikingforest/lib/python3.7/site-packages/ipykernel_launcher.py:4: MatplotlibDeprecationWarning: Adding an axes using the same arguments as a previous axes currently reuses the earlier instance.  In a future version, a new instance will always be created and returned.  Meanwhile, this warning can be suppressed, and the future behavior ensured, by passing a unique label to each axes instance.\n",
      "  after removing the cwd from sys.path.\n",
      "/home/cat/anaconda3/envs/spikingforest/lib/python3.7/site-packages/ipykernel_launcher.py:2: MatplotlibDeprecationWarning: Adding an axes using the same arguments as a previous axes currently reuses the earlier instance.  In a future version, a new instance will always be created and returned.  Meanwhile, this warning can be suppressed, and the future behavior ensured, by passing a unique label to each axes instance.\n",
      "  \n",
      "/home/cat/anaconda3/envs/spikingforest/lib/python3.7/site-packages/ipykernel_launcher.py:4: MatplotlibDeprecationWarning: Adding an axes using the same arguments as a previous axes currently reuses the earlier instance.  In a future version, a new instance will always be created and returned.  Meanwhile, this warning can be suppressed, and the future behavior ensured, by passing a unique label to each axes instance.\n",
      "  after removing the cwd from sys.path.\n",
      "/home/cat/anaconda3/envs/spikingforest/lib/python3.7/site-packages/ipykernel_launcher.py:2: MatplotlibDeprecationWarning: Adding an axes using the same arguments as a previous axes currently reuses the earlier instance.  In a future version, a new instance will always be created and returned.  Meanwhile, this warning can be suppressed, and the future behavior ensured, by passing a unique label to each axes instance.\n",
      "  \n",
      "/home/cat/anaconda3/envs/spikingforest/lib/python3.7/site-packages/ipykernel_launcher.py:4: MatplotlibDeprecationWarning: Adding an axes using the same arguments as a previous axes currently reuses the earlier instance.  In a future version, a new instance will always be created and returned.  Meanwhile, this warning can be suppressed, and the future behavior ensured, by passing a unique label to each axes instance.\n",
      "  after removing the cwd from sys.path.\n",
      "/home/cat/anaconda3/envs/spikingforest/lib/python3.7/site-packages/ipykernel_launcher.py:2: MatplotlibDeprecationWarning: Adding an axes using the same arguments as a previous axes currently reuses the earlier instance.  In a future version, a new instance will always be created and returned.  Meanwhile, this warning can be suppressed, and the future behavior ensured, by passing a unique label to each axes instance.\n",
      "  \n",
      "/home/cat/anaconda3/envs/spikingforest/lib/python3.7/site-packages/ipykernel_launcher.py:4: MatplotlibDeprecationWarning: Adding an axes using the same arguments as a previous axes currently reuses the earlier instance.  In a future version, a new instance will always be created and returned.  Meanwhile, this warning can be suppressed, and the future behavior ensured, by passing a unique label to each axes instance.\n",
      "  after removing the cwd from sys.path.\n",
      "/home/cat/anaconda3/envs/spikingforest/lib/python3.7/site-packages/ipykernel_launcher.py:2: MatplotlibDeprecationWarning: Adding an axes using the same arguments as a previous axes currently reuses the earlier instance.  In a future version, a new instance will always be created and returned.  Meanwhile, this warning can be suppressed, and the future behavior ensured, by passing a unique label to each axes instance.\n",
      "  \n",
      "/home/cat/anaconda3/envs/spikingforest/lib/python3.7/site-packages/ipykernel_launcher.py:4: MatplotlibDeprecationWarning: Adding an axes using the same arguments as a previous axes currently reuses the earlier instance.  In a future version, a new instance will always be created and returned.  Meanwhile, this warning can be suppressed, and the future behavior ensured, by passing a unique label to each axes instance.\n",
      "  after removing the cwd from sys.path.\n"
     ]
    }
   ],
   "source": [
    "for k in range(10):\n",
    "    ax=plt.subplot(2,1,1)\n",
    "    plt.plot(data1_2D[:5000, k]+k*10, c='black')\n",
    "    ax2=plt.subplot(2,1,2)\n",
    "    plt.plot(data2_2D[:5000, k]+k*10, c='black')\n",
    "plt.show()"
   ]
  },
  {
   "cell_type": "code",
   "execution_count": 35,
   "metadata": {},
   "outputs": [
    {
     "name": "stdout",
     "output_type": "stream",
     "text": [
      "(1024, 3135800)\n",
      "<class 'numpy.uint16'>\n"
     ]
    }
   ],
   "source": [
    "data = f['ephys']['signal']\n",
    "print (data.shape)\n",
    "print (type(data[0,0]))\n",
    "frate = f['ephys']['frame_rate']"
   ]
  },
  {
   "cell_type": "code",
   "execution_count": 40,
   "metadata": {},
   "outputs": [
    {
     "name": "stdout",
     "output_type": "stream",
     "text": [
      "<class 'numpy.uint16'>\n",
      "0\n",
      "1\n",
      "2\n",
      "3\n",
      "4\n",
      "5\n",
      "6\n",
      "7\n",
      "8\n",
      "9\n"
     ]
    }
   ],
   "source": [
    "print (type(data[0,0]))\n",
    "fig=plt.figure()\n",
    "for k in range(10):\n",
    "    print (k)\n",
    "    y = np.histogram(data[k,:20000*10],bins=np.arange(0,32000,100))\n",
    "    plt.plot(y[1][:-1],y[0])\n",
    "plt.semilogy()\n",
    "plt.show()"
   ]
  },
  {
   "cell_type": "code",
   "execution_count": 17,
   "metadata": {
    "scrolled": true
   },
   "outputs": [
    {
     "name": "stdout",
     "output_type": "stream",
     "text": [
      "(934,)\n",
      "(934,)\n",
      "(934, 2)\n"
     ]
    }
   ],
   "source": [
    "mapping = f['ephys']['mapping']\n",
    "\n",
    "x = mapping['x']\n",
    "y = mapping['y']\n",
    "channel = mapping['channel']\n",
    "print (channel.shape)\n",
    "print (x.shape)\n",
    "\n",
    "geom = np.vstack((x,y)).T\n",
    "print (geom.shape)\n",
    "\n",
    "#np.savetxt('/media/cat/4TBSSD/felix/geom.txt', geom)"
   ]
  },
  {
   "cell_type": "code",
   "execution_count": 18,
   "metadata": {},
   "outputs": [
    {
     "name": "stderr",
     "output_type": "stream",
     "text": [
      "/home/cat/anaconda3/envs/spikingforest/lib/python3.7/site-packages/ipykernel_launcher.py:1: H5pyDeprecationWarning: dataset.value has been deprecated. Use dataset[()] instead.\n",
      "  \"\"\"Entry point for launching an IPython kernel.\n"
     ]
    },
    {
     "name": "stdout",
     "output_type": "stream",
     "text": [
      "[20000.]\n"
     ]
    }
   ],
   "source": [
    "print (frate.value)\n",
    "np.array(data)[channel].tofile(\"/mnt/adfe6e7b-b77b-4731-bc9e-e639667faba4/felix/data.bin\")"
   ]
  },
  {
   "cell_type": "code",
   "execution_count": 21,
   "metadata": {},
   "outputs": [
    {
     "name": "stdout",
     "output_type": "stream",
     "text": [
      "(2928837200,) <class 'numpy.int16'>\n"
     ]
    }
   ],
   "source": [
    "data_read = np.fromfile('/mnt/adfe6e7b-b77b-4731-bc9e-e639667faba4/felix/data.bin','int16')\n",
    "print (data_read.shape, type(data_read[0]))"
   ]
  },
  {
   "cell_type": "code",
   "execution_count": 24,
   "metadata": {},
   "outputs": [
    {
     "name": "stdout",
     "output_type": "stream",
     "text": [
      "(3135800, 934)\n"
     ]
    }
   ],
   "source": [
    "data_2D = data_read.reshape(934,-1).T\n",
    "print (data_2D.shape)\n",
    "\n",
    "data_2D.tofile('/mnt/adfe6e7b-b77b-4731-bc9e-e639667faba4/felix/data_int16.bin')"
   ]
  },
  {
   "cell_type": "code",
   "execution_count": 30,
   "metadata": {},
   "outputs": [
    {
     "name": "stdout",
     "output_type": "stream",
     "text": [
      "(2928837200,)\n"
     ]
    }
   ],
   "source": [
    "data = np.fromfile('/mnt/adfe6e7b-b77b-4731-bc9e-e639667faba4/felix/data_int16.bin','int16')\n",
    "print (data.shape)"
   ]
  },
  {
   "cell_type": "code",
   "execution_count": 31,
   "metadata": {},
   "outputs": [],
   "source": [
    "data_2D = data.reshape(-1,934)"
   ]
  },
  {
   "cell_type": "code",
   "execution_count": 41,
   "metadata": {},
   "outputs": [],
   "source": [
    "for k in range(10):\n",
    "    plt.plot(data_2D[:20000,k]+k*10)\n",
    "plt.show()"
   ]
  },
  {
   "cell_type": "code",
   "execution_count": null,
   "metadata": {},
   "outputs": [],
   "source": []
  },
  {
   "cell_type": "code",
   "execution_count": 17,
   "metadata": {},
   "outputs": [],
   "source": [
    "# Sample rate and desired cutoff frequencies (in Hz).\n",
    "fs = 20000.0\n",
    "lowcut = 300.0\n",
    "highcut = 6000.0\n",
    "\n",
    "from scipy.signal import freqz\n",
    "    \n",
    "for k in range(data.shape[0]):\n",
    "    filtered = butter_bandpass_filter(data[k,10000:15000],lowcut,highcut,fs)  \n",
    "    plt.plot(filtered+k*10,c='black')\n",
    "plt.show()"
   ]
  },
  {
   "cell_type": "code",
   "execution_count": 12,
   "metadata": {},
   "outputs": [],
   "source": [
    "from scipy.signal import butter, lfilter\n",
    "\n",
    "\n",
    "def butter_bandpass(lowcut, highcut, fs, order=5):\n",
    "    nyq = 0.5 * fs\n",
    "    low = lowcut / nyq\n",
    "    high = highcut / nyq\n",
    "    b, a = butter(order, [low, high], btype='band')\n",
    "    return b, a\n",
    "\n",
    "\n",
    "def butter_bandpass_filter(data, lowcut, highcut, fs, order=5):\n",
    "    b, a = butter_bandpass(lowcut, highcut, fs, order=order)\n",
    "    y = lfilter(b, a, data)\n",
    "    return y\n",
    "\n",
    "\n"
   ]
  },
  {
   "cell_type": "code",
   "execution_count": null,
   "metadata": {},
   "outputs": [],
   "source": []
  },
  {
   "cell_type": "code",
   "execution_count": null,
   "metadata": {},
   "outputs": [],
   "source": []
  },
  {
   "cell_type": "code",
   "execution_count": 11,
   "metadata": {},
   "outputs": [],
   "source": [
    "import sys, os\n",
    "sys.path.append(os.getcwd() + '/../spikeextractors')\n",
    "sys.path.append(os.getcwd() + '/../spikesorters')\n",
    "sys.path.append(os.getcwd() + '/../spikecomparison')\n",
    "sys.path.append(os.getcwd() + '/../spikewidgets')\n",
    "sys.path.append(os.getcwd() + '/../spikeinterface')"
   ]
  },
  {
   "cell_type": "markdown",
   "metadata": {},
   "source": [
    "1. Import modules"
   ]
  },
  {
   "cell_type": "code",
   "execution_count": 9,
   "metadata": {},
   "outputs": [],
   "source": [
    "import spikeextractors as se\n",
    "import spikesorters as ss\n",
    "import spikecomparison as sc\n",
    "import spikewidgets as sw\n",
    "import spikeinterface.toolkit as st\n",
    "\n",
    "import numpy as np\n",
    "import matplotlib.pylab as plt\n",
    "import scipy.signal"
   ]
  },
  {
   "cell_type": "markdown",
   "metadata": {},
   "source": [
    "2. Load a test file:"
   ]
  },
  {
   "cell_type": "code",
   "execution_count": 9,
   "metadata": {},
   "outputs": [
    {
     "name": "stdout",
     "output_type": "stream",
     "text": [
      "Chip version: 20170126\n"
     ]
    }
   ],
   "source": [
    "test_file_name = '/home/cat/Downloads/mea_20190502_140013.raw.h5'\n",
    "    \n",
    "recording = se.Mea1kRecordingExtractor(test_file_name) #(or MaxOneRecordingExtractor)"
   ]
  },
  {
   "cell_type": "code",
   "execution_count": 10,
   "metadata": {},
   "outputs": [],
   "source": [
    "recording_bp = st.preprocessing.bandpass_filter(recording, freq_min=300, freq_max=6000)\n",
    "recording_car = st.preprocessing.common_reference(recording, reference='average')"
   ]
  },
  {
   "cell_type": "markdown",
   "metadata": {},
   "source": [
    "Plot some raw data:"
   ]
  },
  {
   "cell_type": "code",
   "execution_count": 12,
   "metadata": {},
   "outputs": [],
   "source": [
    "sw.plot_timeseries(recording_bp, trange=[1,2], channel_ids=[0,1,2,3])\n",
    "plt.show()"
   ]
  },
  {
   "cell_type": "code",
   "execution_count": null,
   "metadata": {},
   "outputs": [],
   "source": [
    "print (recording.get_traces())\n",
    "\n"
   ]
  },
  {
   "cell_type": "code",
   "execution_count": null,
   "metadata": {},
   "outputs": [],
   "source": []
  },
  {
   "cell_type": "code",
   "execution_count": null,
   "metadata": {},
   "outputs": [],
   "source": [
    "traces = recording_bp.get_traces().shape"
   ]
  },
  {
   "cell_type": "markdown",
   "metadata": {},
   "source": [
    "Alternatively, to see how raw traces are accessed:"
   ]
  },
  {
   "cell_type": "code",
   "execution_count": 28,
   "metadata": {},
   "outputs": [
    {
     "data": {
      "text/plain": [
       "[<matplotlib.lines.Line2D at 0x7ffa1856cfd0>]"
      ]
     },
     "execution_count": 28,
     "metadata": {},
     "output_type": "execute_result"
    },
    {
     "data": {
      "image/png": "[encoded data removed]",
      "text/plain": [
       "<Figure size 432x288 with 1 Axes>"
      ]
     },
     "metadata": {
      "needs_background": "light"
     },
     "output_type": "display_data"
    },
    {
     "data": {
      "image/png": "[encoded data removed]",
      "text/plain": [
       "<Figure size 432x288 with 1 Axes>"
      ]
     },
     "metadata": {
      "needs_background": "light"
     },
     "output_type": "display_data"
    }
   ],
   "source": [
    "%matplotlib inline\n",
    "fig1, ax1 = plt.subplots()\n",
    "ax1.plot(recording_bp.get_traces(channel_ids=0, start_frame=20000, end_frame=40000)[0])\n",
    "\n",
    "fig2, ax2 = plt.subplots()\n",
    "ax2.plot(recording_car.get_traces(channel_ids=0, start_frame=20000, end_frame=40000)[0])"
   ]
  },
  {
   "cell_type": "markdown",
   "metadata": {},
   "source": [
    "Plot the electrode configuration:"
   ]
  },
  {
   "cell_type": "code",
   "execution_count": 29,
   "metadata": {},
   "outputs": [
    {
     "data": {
      "text/plain": [
       "<spikewidgets.widgets.electrodegeometrywidget.electrodegeometrywidget.ElectrodeGeometryWidget at 0x7ffa1a74efd0>"
      ]
     },
     "execution_count": 29,
     "metadata": {},
     "output_type": "execute_result"
    },
    {
     "data": {
      "image/png": "[encoded data removed]",
      "text/plain": [
       "<Figure size 432x288 with 1 Axes>"
      ]
     },
     "metadata": {},
     "output_type": "display_data"
    }
   ],
   "source": [
    "sw.plot_electrode_geometry(recording)"
   ]
  },
  {
   "cell_type": "markdown",
   "metadata": {},
   "source": [
    "3. Start HDsort (same as Mysort) spike-sorter.\n",
    "This requires the spike-sorter to be set up correctly in the background. HDsort is written in Matlab."
   ]
  },
  {
   "cell_type": "code",
   "execution_count": 30,
   "metadata": {},
   "outputs": [
    {
     "name": "stdout",
     "output_type": "stream",
     "text": [
      "{'detect_threshold': 4.2, 'detect_sign': -1, 'filter': True, 'parfor': True, 'hpf': 300, 'lpf': 7000, 'n_pc_dims': 6, 'chunk_size': 500000, 'loop_mode': 'local_parfor'}\n"
     ]
    }
   ],
   "source": [
    "params = ss.get_default_params('hdsort')\n",
    "print(params)"
   ]
  },
  {
   "cell_type": "code",
   "execution_count": 7,
   "metadata": {},
   "outputs": [
    {
     "name": "stdout",
     "output_type": "stream",
     "text": [
      "Using Mea1k format\n",
      "RUNNING SHELL SCRIPT: /var/folders/lk/jnqk24c91y71djhsqpyp39z4003ztn/T/tmp_shellscript89wx569d/script.sh\n"
     ]
    }
   ],
   "source": [
    "sort_hd = ss.run_hdsort(recording, **params)"
   ]
  },
  {
   "cell_type": "code",
   "execution_count": 9,
   "metadata": {},
   "outputs": [
    {
     "name": "stdout",
     "output_type": "stream",
     "text": [
      "<spikeextractors.extractors.mdaextractors.mdaextractors.MdaSortingExtractor object at 0x1222ecd68>\n"
     ]
    }
   ],
   "source": [
    "print(sort_hd)"
   ]
  },
  {
   "cell_type": "code",
   "execution_count": 21,
   "metadata": {},
   "outputs": [],
   "source": [
    "unit_id = sort_hd.get_unit_ids()\n",
    "st = sort_hd.get_unit_spike_train(unit_id[0])"
   ]
  },
  {
   "cell_type": "code",
   "execution_count": 52,
   "metadata": {},
   "outputs": [
    {
     "name": "stdout",
     "output_type": "stream",
     "text": [
      "(1524, 101, 934)\n",
      "(301170, 2)\n"
     ]
    }
   ],
   "source": []
  },
  {
   "cell_type": "code",
   "execution_count": 49,
   "metadata": {},
   "outputs": [
    {
     "name": "stdout",
     "output_type": "stream",
     "text": [
      "0\n",
      "1\n",
      "2\n",
      "3\n",
      "4\n",
      "5\n",
      "6\n",
      "7\n",
      "8\n",
      "9\n"
     ]
    }
   ],
   "source": [
    "fig = plt.figure()\n",
    "for k in range(10):\n",
    "    print (k)\n",
    "    ax=plt.subplot(10,10,k+1)\n",
    "    plt.plot(data[k])\n",
    "    plt.xticks([])\n",
    "plt.show()"
   ]
  },
  {
   "cell_type": "code",
   "execution_count": 53,
   "metadata": {},
   "outputs": [
    {
     "name": "stdout",
     "output_type": "stream",
     "text": [
      "(209, 101, 934)\n"
     ]
    }
   ],
   "source": []
  },
  {
   "cell_type": "code",
   "execution_count": 56,
   "metadata": {},
   "outputs": [],
   "source": []
  },
  {
   "cell_type": "code",
   "execution_count": 58,
   "metadata": {},
   "outputs": [
    {
     "name": "stdout",
     "output_type": "stream",
     "text": [
      "[[  21703       0]\n",
      " [  33478       0]\n",
      " [ 126212       0]\n",
      " ...\n",
      " [1953027     208]\n",
      " [2132648     208]\n",
      " [2133747     208]]\n"
     ]
    }
   ],
   "source": []
  },
  {
   "cell_type": "code",
   "execution_count": 59,
   "metadata": {},
   "outputs": [
    {
     "name": "stdout",
     "output_type": "stream",
     "text": [
      "(130, 161, 934)\n"
     ]
    }
   ],
   "source": [
    "tmps1 = np.load('/mnt/adfe6e7b-b77b-4731-bc9e-e639667faba4/felix/tmp/nn_train/augment/templates/templates.npy')\n",
    "print (tmps1.shape)"
   ]
  },
  {
   "cell_type": "code",
   "execution_count": 61,
   "metadata": {},
   "outputs": [],
   "source": [
    "fig=plt.figure()\n",
    "for k in range(100):\n",
    "    ax=plt.subplot(10,10,k+1)\n",
    "    plt.plot(tmps1[0])\n",
    "    plt.xticks([])\n",
    "plt.show()"
   ]
  },
  {
   "cell_type": "code",
   "execution_count": null,
   "metadata": {},
   "outputs": [],
   "source": []
  }
 ],
 "metadata": {
  "kernelspec": {
   "display_name": "Python 3",
   "language": "python",
   "name": "python3"
  },
  "language_info": {
   "codemirror_mode": {
    "name": "ipython",
    "version": 3
   },
   "file_extension": ".py",
   "mimetype": "text/x-python",
   "name": "python",
   "nbconvert_exporter": "python",
   "pygments_lexer": "ipython3",
   "version": "3.7.7"
  }
 },
 "nbformat": 4,
 "nbformat_minor": 4
}
